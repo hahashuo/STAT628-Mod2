{
 "cells": [
  {
   "cell_type": "code",
   "execution_count": 205,
   "metadata": {},
   "outputs": [],
   "source": [
    "import pandas as pd \n",
    "import numpy as np\n",
    "import networkx as nx\n",
    "import pickle\n",
    "from pathlib import Path\n",
    "import matplotlib.pyplot as plt \n",
    "import seaborn as sns\n",
    "import scipy.spatial.distance as spsd\n",
    "import scipy.linalg as spla\n",
    "import sys\n",
    "import random\n",
    "import math\n",
    "import itertools\n",
    "from sklearn import linear_model"
   ]
  },
  {
   "cell_type": "code",
   "execution_count": 217,
   "metadata": {},
   "outputs": [],
   "source": [
    "data=pd.read_csv(\"./Data/BodyFat.csv\")"
   ]
  },
  {
   "cell_type": "markdown",
   "metadata": {},
   "source": [
    "## Preview\n"
   ]
  },
  {
   "cell_type": "code",
   "execution_count": 366,
   "metadata": {},
   "outputs": [
    {
     "name": "stdout",
     "output_type": "stream",
     "text": [
      "<class 'pandas.core.frame.DataFrame'>\n",
      "RangeIndex: 252 entries, 0 to 251\n",
      "Data columns (total 17 columns):\n",
      " #   Column     Non-Null Count  Dtype  \n",
      "---  ------     --------------  -----  \n",
      " 0   IDNO       252 non-null    int64  \n",
      " 1   BODYFAT    252 non-null    float64\n",
      " 2   DENSITY    252 non-null    float64\n",
      " 3   AGE        252 non-null    int64  \n",
      " 4   WEIGHT     252 non-null    float64\n",
      " 5   HEIGHT     252 non-null    float64\n",
      " 6   ADIPOSITY  252 non-null    float64\n",
      " 7   NECK       252 non-null    float64\n",
      " 8   CHEST      252 non-null    float64\n",
      " 9   ABDOMEN    252 non-null    float64\n",
      " 10  HIP        252 non-null    float64\n",
      " 11  THIGH      252 non-null    float64\n",
      " 12  KNEE       252 non-null    float64\n",
      " 13  ANKLE      252 non-null    float64\n",
      " 14  BICEPS     252 non-null    float64\n",
      " 15  FOREARM    252 non-null    float64\n",
      " 16  WRIST      252 non-null    float64\n",
      "dtypes: float64(15), int64(2)\n",
      "memory usage: 33.6 KB\n"
     ]
    },
    {
     "data": {
      "text/html": [
       "<div>\n",
       "<style scoped>\n",
       "    .dataframe tbody tr th:only-of-type {\n",
       "        vertical-align: middle;\n",
       "    }\n",
       "\n",
       "    .dataframe tbody tr th {\n",
       "        vertical-align: top;\n",
       "    }\n",
       "\n",
       "    .dataframe thead th {\n",
       "        text-align: right;\n",
       "    }\n",
       "</style>\n",
       "<table border=\"1\" class=\"dataframe\">\n",
       "  <thead>\n",
       "    <tr style=\"text-align: right;\">\n",
       "      <th></th>\n",
       "      <th>IDNO</th>\n",
       "      <th>BODYFAT</th>\n",
       "      <th>DENSITY</th>\n",
       "      <th>AGE</th>\n",
       "      <th>WEIGHT</th>\n",
       "      <th>HEIGHT</th>\n",
       "      <th>ADIPOSITY</th>\n",
       "      <th>NECK</th>\n",
       "      <th>CHEST</th>\n",
       "      <th>ABDOMEN</th>\n",
       "      <th>HIP</th>\n",
       "      <th>THIGH</th>\n",
       "      <th>KNEE</th>\n",
       "      <th>ANKLE</th>\n",
       "      <th>BICEPS</th>\n",
       "      <th>FOREARM</th>\n",
       "      <th>WRIST</th>\n",
       "    </tr>\n",
       "  </thead>\n",
       "  <tbody>\n",
       "    <tr>\n",
       "      <th>mean</th>\n",
       "      <td>126.500000</td>\n",
       "      <td>18.938492</td>\n",
       "      <td>1.055574</td>\n",
       "      <td>44.884921</td>\n",
       "      <td>178.924405</td>\n",
       "      <td>70.148810</td>\n",
       "      <td>25.436905</td>\n",
       "      <td>37.992063</td>\n",
       "      <td>100.824206</td>\n",
       "      <td>92.555952</td>\n",
       "      <td>99.904762</td>\n",
       "      <td>59.405952</td>\n",
       "      <td>38.590476</td>\n",
       "      <td>23.102381</td>\n",
       "      <td>32.273413</td>\n",
       "      <td>28.663889</td>\n",
       "      <td>18.229762</td>\n",
       "    </tr>\n",
       "    <tr>\n",
       "      <th>std</th>\n",
       "      <td>72.890329</td>\n",
       "      <td>7.750856</td>\n",
       "      <td>0.019031</td>\n",
       "      <td>12.602040</td>\n",
       "      <td>29.389160</td>\n",
       "      <td>3.662856</td>\n",
       "      <td>3.648111</td>\n",
       "      <td>2.430913</td>\n",
       "      <td>8.430476</td>\n",
       "      <td>10.783077</td>\n",
       "      <td>7.164058</td>\n",
       "      <td>5.249952</td>\n",
       "      <td>2.411805</td>\n",
       "      <td>1.694893</td>\n",
       "      <td>3.021274</td>\n",
       "      <td>2.020691</td>\n",
       "      <td>0.933585</td>\n",
       "    </tr>\n",
       "    <tr>\n",
       "      <th>min</th>\n",
       "      <td>1.000000</td>\n",
       "      <td>0.000000</td>\n",
       "      <td>0.995000</td>\n",
       "      <td>22.000000</td>\n",
       "      <td>118.500000</td>\n",
       "      <td>29.500000</td>\n",
       "      <td>18.100000</td>\n",
       "      <td>31.100000</td>\n",
       "      <td>79.300000</td>\n",
       "      <td>69.400000</td>\n",
       "      <td>85.000000</td>\n",
       "      <td>47.200000</td>\n",
       "      <td>33.000000</td>\n",
       "      <td>19.100000</td>\n",
       "      <td>24.800000</td>\n",
       "      <td>21.000000</td>\n",
       "      <td>15.800000</td>\n",
       "    </tr>\n",
       "    <tr>\n",
       "      <th>25%</th>\n",
       "      <td>63.750000</td>\n",
       "      <td>12.800000</td>\n",
       "      <td>1.041400</td>\n",
       "      <td>35.750000</td>\n",
       "      <td>159.000000</td>\n",
       "      <td>68.250000</td>\n",
       "      <td>23.100000</td>\n",
       "      <td>36.400000</td>\n",
       "      <td>94.350000</td>\n",
       "      <td>84.575000</td>\n",
       "      <td>95.500000</td>\n",
       "      <td>56.000000</td>\n",
       "      <td>36.975000</td>\n",
       "      <td>22.000000</td>\n",
       "      <td>30.200000</td>\n",
       "      <td>27.300000</td>\n",
       "      <td>17.600000</td>\n",
       "    </tr>\n",
       "    <tr>\n",
       "      <th>50%</th>\n",
       "      <td>126.500000</td>\n",
       "      <td>19.000000</td>\n",
       "      <td>1.054900</td>\n",
       "      <td>43.000000</td>\n",
       "      <td>176.500000</td>\n",
       "      <td>70.000000</td>\n",
       "      <td>25.050000</td>\n",
       "      <td>38.000000</td>\n",
       "      <td>99.650000</td>\n",
       "      <td>90.950000</td>\n",
       "      <td>99.300000</td>\n",
       "      <td>59.000000</td>\n",
       "      <td>38.500000</td>\n",
       "      <td>22.800000</td>\n",
       "      <td>32.050000</td>\n",
       "      <td>28.700000</td>\n",
       "      <td>18.300000</td>\n",
       "    </tr>\n",
       "    <tr>\n",
       "      <th>75%</th>\n",
       "      <td>189.250000</td>\n",
       "      <td>24.600000</td>\n",
       "      <td>1.070400</td>\n",
       "      <td>54.000000</td>\n",
       "      <td>197.000000</td>\n",
       "      <td>72.250000</td>\n",
       "      <td>27.325000</td>\n",
       "      <td>39.425000</td>\n",
       "      <td>105.375000</td>\n",
       "      <td>99.325000</td>\n",
       "      <td>103.525000</td>\n",
       "      <td>62.350000</td>\n",
       "      <td>39.925000</td>\n",
       "      <td>24.000000</td>\n",
       "      <td>34.325000</td>\n",
       "      <td>30.000000</td>\n",
       "      <td>18.800000</td>\n",
       "    </tr>\n",
       "    <tr>\n",
       "      <th>max</th>\n",
       "      <td>252.000000</td>\n",
       "      <td>45.100000</td>\n",
       "      <td>1.108900</td>\n",
       "      <td>81.000000</td>\n",
       "      <td>363.150000</td>\n",
       "      <td>77.750000</td>\n",
       "      <td>48.900000</td>\n",
       "      <td>51.200000</td>\n",
       "      <td>136.200000</td>\n",
       "      <td>148.100000</td>\n",
       "      <td>147.700000</td>\n",
       "      <td>87.300000</td>\n",
       "      <td>49.100000</td>\n",
       "      <td>33.900000</td>\n",
       "      <td>45.000000</td>\n",
       "      <td>34.900000</td>\n",
       "      <td>21.400000</td>\n",
       "    </tr>\n",
       "  </tbody>\n",
       "</table>\n",
       "</div>"
      ],
      "text/plain": [
       "            IDNO    BODYFAT   DENSITY        AGE      WEIGHT     HEIGHT  \\\n",
       "mean  126.500000  18.938492  1.055574  44.884921  178.924405  70.148810   \n",
       "std    72.890329   7.750856  0.019031  12.602040   29.389160   3.662856   \n",
       "min     1.000000   0.000000  0.995000  22.000000  118.500000  29.500000   \n",
       "25%    63.750000  12.800000  1.041400  35.750000  159.000000  68.250000   \n",
       "50%   126.500000  19.000000  1.054900  43.000000  176.500000  70.000000   \n",
       "75%   189.250000  24.600000  1.070400  54.000000  197.000000  72.250000   \n",
       "max   252.000000  45.100000  1.108900  81.000000  363.150000  77.750000   \n",
       "\n",
       "      ADIPOSITY       NECK       CHEST     ABDOMEN         HIP      THIGH  \\\n",
       "mean  25.436905  37.992063  100.824206   92.555952   99.904762  59.405952   \n",
       "std    3.648111   2.430913    8.430476   10.783077    7.164058   5.249952   \n",
       "min   18.100000  31.100000   79.300000   69.400000   85.000000  47.200000   \n",
       "25%   23.100000  36.400000   94.350000   84.575000   95.500000  56.000000   \n",
       "50%   25.050000  38.000000   99.650000   90.950000   99.300000  59.000000   \n",
       "75%   27.325000  39.425000  105.375000   99.325000  103.525000  62.350000   \n",
       "max   48.900000  51.200000  136.200000  148.100000  147.700000  87.300000   \n",
       "\n",
       "           KNEE      ANKLE     BICEPS    FOREARM      WRIST  \n",
       "mean  38.590476  23.102381  32.273413  28.663889  18.229762  \n",
       "std    2.411805   1.694893   3.021274   2.020691   0.933585  \n",
       "min   33.000000  19.100000  24.800000  21.000000  15.800000  \n",
       "25%   36.975000  22.000000  30.200000  27.300000  17.600000  \n",
       "50%   38.500000  22.800000  32.050000  28.700000  18.300000  \n",
       "75%   39.925000  24.000000  34.325000  30.000000  18.800000  \n",
       "max   49.100000  33.900000  45.000000  34.900000  21.400000  "
      ]
     },
     "execution_count": 366,
     "metadata": {},
     "output_type": "execute_result"
    }
   ],
   "source": [
    "data.info()#there is no missing data (252 non-null)\n",
    "data.describe().drop(\"count\",axis=0)"
   ]
  },
  {
   "cell_type": "code",
   "execution_count": 370,
   "metadata": {},
   "outputs": [
    {
     "data": {
      "text/plain": [
       "<matplotlib.legend.Legend at 0x7fab7b0dba30>"
      ]
     },
     "execution_count": 370,
     "metadata": {},
     "output_type": "execute_result"
    },
    {
     "data": {
      "image/png": "[encoded data removed]",
      "text/plain": [
       "<Figure size 432x288 with 1 Axes>"
      ]
     },
     "metadata": {
      "needs_background": "light"
     },
     "output_type": "display_data"
    }
   ],
   "source": [
    "\n",
    "out=data.loc[abs((495/data['DENSITY']-450)-data['BODYFAT'])>2,]\n",
    "x=np.linspace(0.99,1.12,num=1000)\n",
    "plt.plot(x,(495/x)-450,color='black',ls='--',label='estimtaed bodyfat')\n",
    "\n",
    "plt.scatter(data[\"DENSITY\"],data[\"BODYFAT\"],alpha=0.5,label='correct data point')\n",
    "plt.scatter(out[\"DENSITY\"], out[\"BODYFAT\"], color=\"red\",label='deviate data point')\n",
    "plt.xlabel(\"density\",fontsize=12)\n",
    "plt.ylabel(\"bodyfat\",fontsize=12)\n",
    "plt.legend()"
   ]
  },
  {
   "cell_type": "code",
   "execution_count": 394,
   "metadata": {},
   "outputs": [
    {
     "data": {
      "text/html": [
       "<div>\n",
       "<style scoped>\n",
       "    .dataframe tbody tr th:only-of-type {\n",
       "        vertical-align: middle;\n",
       "    }\n",
       "\n",
       "    .dataframe tbody tr th {\n",
       "        vertical-align: top;\n",
       "    }\n",
       "\n",
       "    .dataframe thead th {\n",
       "        text-align: right;\n",
       "    }\n",
       "</style>\n",
       "<table border=\"1\" class=\"dataframe\">\n",
       "  <thead>\n",
       "    <tr style=\"text-align: right;\">\n",
       "      <th></th>\n",
       "      <th>IDNO</th>\n",
       "      <th>DENSITY</th>\n",
       "      <th>BODYFAT</th>\n",
       "      <th>ESTIMATED_BODYFAT</th>\n",
       "    </tr>\n",
       "  </thead>\n",
       "  <tbody>\n",
       "    <tr>\n",
       "      <th>47</th>\n",
       "      <td>48</td>\n",
       "      <td>1.0665</td>\n",
       "      <td>6.4</td>\n",
       "      <td>14.135021</td>\n",
       "    </tr>\n",
       "    <tr>\n",
       "      <th>75</th>\n",
       "      <td>76</td>\n",
       "      <td>1.0666</td>\n",
       "      <td>18.3</td>\n",
       "      <td>14.091506</td>\n",
       "    </tr>\n",
       "    <tr>\n",
       "      <th>95</th>\n",
       "      <td>96</td>\n",
       "      <td>1.0991</td>\n",
       "      <td>17.3</td>\n",
       "      <td>0.368483</td>\n",
       "    </tr>\n",
       "    <tr>\n",
       "      <th>181</th>\n",
       "      <td>182</td>\n",
       "      <td>1.1089</td>\n",
       "      <td>0.0</td>\n",
       "      <td>-3.611687</td>\n",
       "    </tr>\n",
       "    <tr>\n",
       "      <th>215</th>\n",
       "      <td>216</td>\n",
       "      <td>0.9950</td>\n",
       "      <td>45.1</td>\n",
       "      <td>47.487437</td>\n",
       "    </tr>\n",
       "  </tbody>\n",
       "</table>\n",
       "</div>"
      ],
      "text/plain": [
       "     IDNO  DENSITY  BODYFAT  ESTIMATED_BODYFAT\n",
       "47     48   1.0665      6.4          14.135021\n",
       "75     76   1.0666     18.3          14.091506\n",
       "95     96   1.0991     17.3           0.368483\n",
       "181   182   1.1089      0.0          -3.611687\n",
       "215   216   0.9950     45.1          47.487437"
      ]
     },
     "execution_count": 394,
     "metadata": {},
     "output_type": "execute_result"
    }
   ],
   "source": [
    "esti=pd.DataFrame()\n",
    "esti['IDNO']=out['IDNO']\n",
    "esti['DENSITY']=out['DENSITY']\n",
    "esti['BODYFAT']=out['BODYFAT']\n",
    "esti['ESTIMATED_BODYFAT']=out['ESTIMATED_BF']\n",
    "esti"
   ]
  },
  {
   "cell_type": "code",
   "execution_count": 409,
   "metadata": {},
   "outputs": [
    {
     "data": {
      "text/plain": [
       "{'whiskers': [<matplotlib.lines.Line2D at 0x7fab835a4f40>,\n",
       "  <matplotlib.lines.Line2D at 0x7fab835b12e0>],\n",
       " 'caps': [<matplotlib.lines.Line2D at 0x7fab835b1640>,\n",
       "  <matplotlib.lines.Line2D at 0x7fab835b19a0>],\n",
       " 'boxes': [<matplotlib.lines.Line2D at 0x7fab835a4be0>],\n",
       " 'medians': [<matplotlib.lines.Line2D at 0x7fab835b1d00>],\n",
       " 'fliers': [<matplotlib.lines.Line2D at 0x7fab842b5040>],\n",
       " 'means': []}"
      ]
     },
     "execution_count": 409,
     "metadata": {},
     "output_type": "execute_result"
    },
    {
     "data": {
      "image/png": "[encoded data removed]",
      "text/plain": [
       "<Figure size 432x288 with 1 Axes>"
      ]
     },
     "metadata": {
      "needs_background": "light"
     },
     "output_type": "display_data"
    }
   ],
   "source": [
    "plt.boxplot(data['HEIGHT'])"
   ]
  },
  {
   "cell_type": "markdown",
   "metadata": {},
   "source": [
    "## 1. ID=182 : Body fat = 0"
   ]
  },
  {
   "cell_type": "code",
   "execution_count": 282,
   "metadata": {},
   "outputs": [
    {
     "data": {
      "text/html": [
       "<div>\n",
       "<style scoped>\n",
       "    .dataframe tbody tr th:only-of-type {\n",
       "        vertical-align: middle;\n",
       "    }\n",
       "\n",
       "    .dataframe tbody tr th {\n",
       "        vertical-align: top;\n",
       "    }\n",
       "\n",
       "    .dataframe thead th {\n",
       "        text-align: right;\n",
       "    }\n",
       "</style>\n",
       "<table border=\"1\" class=\"dataframe\">\n",
       "  <thead>\n",
       "    <tr style=\"text-align: right;\">\n",
       "      <th></th>\n",
       "      <th>IDNO</th>\n",
       "      <th>BODYFAT</th>\n",
       "      <th>DENSITY</th>\n",
       "      <th>AGE</th>\n",
       "      <th>WEIGHT</th>\n",
       "      <th>HEIGHT</th>\n",
       "      <th>ADIPOSITY</th>\n",
       "      <th>NECK</th>\n",
       "      <th>CHEST</th>\n",
       "      <th>ABDOMEN</th>\n",
       "      <th>HIP</th>\n",
       "      <th>THIGH</th>\n",
       "      <th>KNEE</th>\n",
       "      <th>ANKLE</th>\n",
       "      <th>BICEPS</th>\n",
       "      <th>FOREARM</th>\n",
       "      <th>WRIST</th>\n",
       "    </tr>\n",
       "  </thead>\n",
       "  <tbody>\n",
       "    <tr>\n",
       "      <th>181</th>\n",
       "      <td>182</td>\n",
       "      <td>0.0</td>\n",
       "      <td>1.1089</td>\n",
       "      <td>40</td>\n",
       "      <td>118.5</td>\n",
       "      <td>68.0</td>\n",
       "      <td>18.1</td>\n",
       "      <td>33.8</td>\n",
       "      <td>79.3</td>\n",
       "      <td>69.4</td>\n",
       "      <td>85.0</td>\n",
       "      <td>47.2</td>\n",
       "      <td>33.5</td>\n",
       "      <td>20.2</td>\n",
       "      <td>27.7</td>\n",
       "      <td>24.6</td>\n",
       "      <td>16.5</td>\n",
       "    </tr>\n",
       "  </tbody>\n",
       "</table>\n",
       "</div>"
      ],
      "text/plain": [
       "     IDNO  BODYFAT  DENSITY  AGE  WEIGHT  HEIGHT  ADIPOSITY  NECK  CHEST  \\\n",
       "181   182      0.0   1.1089   40   118.5    68.0       18.1  33.8   79.3   \n",
       "\n",
       "     ABDOMEN   HIP  THIGH  KNEE  ANKLE  BICEPS  FOREARM  WRIST  \n",
       "181     69.4  85.0   47.2  33.5   20.2    27.7     24.6   16.5  "
      ]
     },
     "execution_count": 282,
     "metadata": {},
     "output_type": "execute_result"
    }
   ],
   "source": [
    "data.loc[data['BODYFAT']==0.0]\n"
   ]
  },
  {
   "cell_type": "code",
   "execution_count": 283,
   "metadata": {},
   "outputs": [
    {
     "data": {
      "text/html": [
       "<div>\n",
       "<style scoped>\n",
       "    .dataframe tbody tr th:only-of-type {\n",
       "        vertical-align: middle;\n",
       "    }\n",
       "\n",
       "    .dataframe tbody tr th {\n",
       "        vertical-align: top;\n",
       "    }\n",
       "\n",
       "    .dataframe thead th {\n",
       "        text-align: right;\n",
       "    }\n",
       "</style>\n",
       "<table border=\"1\" class=\"dataframe\">\n",
       "  <thead>\n",
       "    <tr style=\"text-align: right;\">\n",
       "      <th></th>\n",
       "      <th>IDNO</th>\n",
       "      <th>BODYFAT</th>\n",
       "      <th>DENSITY</th>\n",
       "      <th>AGE</th>\n",
       "      <th>WEIGHT</th>\n",
       "      <th>HEIGHT</th>\n",
       "      <th>ADIPOSITY</th>\n",
       "      <th>NECK</th>\n",
       "      <th>CHEST</th>\n",
       "      <th>ABDOMEN</th>\n",
       "      <th>HIP</th>\n",
       "      <th>THIGH</th>\n",
       "      <th>KNEE</th>\n",
       "      <th>ANKLE</th>\n",
       "      <th>BICEPS</th>\n",
       "      <th>FOREARM</th>\n",
       "      <th>WRIST</th>\n",
       "    </tr>\n",
       "  </thead>\n",
       "  <tbody>\n",
       "    <tr>\n",
       "      <th>181</th>\n",
       "      <td>182</td>\n",
       "      <td>7.3</td>\n",
       "      <td>1.1089</td>\n",
       "      <td>40</td>\n",
       "      <td>118.5</td>\n",
       "      <td>68.0</td>\n",
       "      <td>18.1</td>\n",
       "      <td>33.8</td>\n",
       "      <td>79.3</td>\n",
       "      <td>69.4</td>\n",
       "      <td>85.0</td>\n",
       "      <td>47.2</td>\n",
       "      <td>33.5</td>\n",
       "      <td>20.2</td>\n",
       "      <td>27.7</td>\n",
       "      <td>24.6</td>\n",
       "      <td>16.5</td>\n",
       "    </tr>\n",
       "  </tbody>\n",
       "</table>\n",
       "</div>"
      ],
      "text/plain": [
       "     IDNO  BODYFAT  DENSITY  AGE  WEIGHT  HEIGHT  ADIPOSITY  NECK  CHEST  \\\n",
       "181   182      7.3   1.1089   40   118.5    68.0       18.1  33.8   79.3   \n",
       "\n",
       "     ABDOMEN   HIP  THIGH  KNEE  ANKLE  BICEPS  FOREARM  WRIST  \n",
       "181     69.4  85.0   47.2  33.5   20.2    27.7     24.6   16.5  "
      ]
     },
     "execution_count": 283,
     "metadata": {},
     "output_type": "execute_result"
    }
   ],
   "source": [
    "data.loc[data['BODYFAT']==0.0,'BODYFAT']=7.3\n",
    "data.loc[data[\"IDNO\"]==182]"
   ]
  },
  {
   "cell_type": "markdown",
   "metadata": {},
   "source": [
    "## 2. ID=42 : Height Typo"
   ]
  },
  {
   "cell_type": "code",
   "execution_count": 284,
   "metadata": {},
   "outputs": [
    {
     "data": {
      "text/html": [
       "<div>\n",
       "<style scoped>\n",
       "    .dataframe tbody tr th:only-of-type {\n",
       "        vertical-align: middle;\n",
       "    }\n",
       "\n",
       "    .dataframe tbody tr th {\n",
       "        vertical-align: top;\n",
       "    }\n",
       "\n",
       "    .dataframe thead th {\n",
       "        text-align: right;\n",
       "    }\n",
       "</style>\n",
       "<table border=\"1\" class=\"dataframe\">\n",
       "  <thead>\n",
       "    <tr style=\"text-align: right;\">\n",
       "      <th></th>\n",
       "      <th>IDNO</th>\n",
       "      <th>BODYFAT</th>\n",
       "      <th>DENSITY</th>\n",
       "      <th>AGE</th>\n",
       "      <th>WEIGHT</th>\n",
       "      <th>HEIGHT</th>\n",
       "      <th>ADIPOSITY</th>\n",
       "      <th>NECK</th>\n",
       "      <th>CHEST</th>\n",
       "      <th>ABDOMEN</th>\n",
       "      <th>HIP</th>\n",
       "      <th>THIGH</th>\n",
       "      <th>KNEE</th>\n",
       "      <th>ANKLE</th>\n",
       "      <th>BICEPS</th>\n",
       "      <th>FOREARM</th>\n",
       "      <th>WRIST</th>\n",
       "    </tr>\n",
       "  </thead>\n",
       "  <tbody>\n",
       "    <tr>\n",
       "      <th>41</th>\n",
       "      <td>42</td>\n",
       "      <td>31.7</td>\n",
       "      <td>1.025</td>\n",
       "      <td>44</td>\n",
       "      <td>205.0</td>\n",
       "      <td>29.5</td>\n",
       "      <td>29.9</td>\n",
       "      <td>36.6</td>\n",
       "      <td>106.0</td>\n",
       "      <td>104.3</td>\n",
       "      <td>115.5</td>\n",
       "      <td>70.6</td>\n",
       "      <td>42.5</td>\n",
       "      <td>23.7</td>\n",
       "      <td>33.6</td>\n",
       "      <td>28.7</td>\n",
       "      <td>17.4</td>\n",
       "    </tr>\n",
       "  </tbody>\n",
       "</table>\n",
       "</div>"
      ],
      "text/plain": [
       "    IDNO  BODYFAT  DENSITY  AGE  WEIGHT  HEIGHT  ADIPOSITY  NECK  CHEST  \\\n",
       "41    42     31.7    1.025   44   205.0    29.5       29.9  36.6  106.0   \n",
       "\n",
       "    ABDOMEN    HIP  THIGH  KNEE  ANKLE  BICEPS  FOREARM  WRIST  \n",
       "41    104.3  115.5   70.6  42.5   23.7    33.6     28.7   17.4  "
      ]
     },
     "execution_count": 284,
     "metadata": {},
     "output_type": "execute_result"
    }
   ],
   "source": [
    "data.loc[data['HEIGHT']==29.5]"
   ]
  },
  {
   "cell_type": "markdown",
   "metadata": {},
   "source": [
    "### We use BMI to impute this value\n",
    "### BMI(kg/m^2) = Body Mass(kg) / (Body Height(m))^2"
   ]
  },
  {
   "cell_type": "code",
   "execution_count": 285,
   "metadata": {},
   "outputs": [
    {
     "data": {
      "text/plain": [
       "41    3.109912\n",
       "dtype: float64"
      ]
     },
     "execution_count": 285,
     "metadata": {},
     "output_type": "execute_result"
    }
   ],
   "source": [
    "### 1 pound = 0.453592 kg\n",
    "### 1 m = 39.3701 inches\n",
    "data.loc[data['HEIGHT']==29.5]['WEIGHT']*0.453592/(data.loc[data['HEIGHT']==29.5]['ADIPOSITY'])"
   ]
  },
  {
   "cell_type": "code",
   "execution_count": 286,
   "metadata": {},
   "outputs": [
    {
     "data": {
      "text/plain": [
       "69.42894530922234"
      ]
     },
     "execution_count": 286,
     "metadata": {},
     "output_type": "execute_result"
    }
   ],
   "source": [
    "math.sqrt(3.109912)*39.3701"
   ]
  },
  {
   "cell_type": "code",
   "execution_count": 288,
   "metadata": {},
   "outputs": [],
   "source": [
    "data.loc[data['HEIGHT']==29.5,\"HEIGHT\"]=69.5"
   ]
  },
  {
   "cell_type": "markdown",
   "metadata": {},
   "source": [
    "# Change pound to kg, inch to meter"
   ]
  },
  {
   "cell_type": "code",
   "execution_count": 295,
   "metadata": {},
   "outputs": [],
   "source": [
    "data['WEIGHT_KG']=data['WEIGHT']*0.453\n",
    "data['HEIGHT_M']=data['HEIGHT']* 0.0254"
   ]
  },
  {
   "cell_type": "code",
   "execution_count": 225,
   "metadata": {},
   "outputs": [],
   "source": [
    "data.to_csv(\"Data/adjust_bodyfat.csv\")"
   ]
  }
 ],
 "metadata": {
  "kernelspec": {
   "display_name": "Python 3",
   "language": "python",
   "name": "python3"
  },
  "language_info": {
   "codemirror_mode": {
    "name": "ipython",
    "version": 3
   },
   "file_extension": ".py",
   "mimetype": "text/x-python",
   "name": "python",
   "nbconvert_exporter": "python",
   "pygments_lexer": "ipython3",
   "version": "3.8.3"
  }
 },
 "nbformat": 4,
 "nbformat_minor": 4
}
