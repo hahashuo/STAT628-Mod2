{
 "cells": [
  {
   "cell_type": "code",
   "execution_count": 11,
   "metadata": {},
   "outputs": [],
   "source": [
    "import pandas as pd \n",
    "import numpy as np\n",
    "import networkx as nx\n",
    "import pickle\n",
    "from pathlib import Path\n",
    "import matplotlib.pyplot as plt \n",
    "import seaborn as sns\n",
    "import scipy.spatial.distance as spsd\n",
    "import scipy.linalg as spla\n",
    "import sys\n",
    "import random\n",
    "import math\n",
    "import itertools\n",
    "import scipy as sp\n",
    "import scipy.stats\n",
    "from sklearn import datasets, linear_model\n",
    "from math import sqrt\n",
    "import regressors\n",
    "from regressors import stats\n"
   ]
  },
  {
   "cell_type": "code",
   "execution_count": 12,
   "metadata": {},
   "outputs": [],
   "source": [
    "df = pd.read_csv(\"./Data/preprocess_data.csv\")\n",
    "df=df.drop(columns=['WEIGHT','HEIGHT'])"
   ]
  },
  {
   "cell_type": "code",
   "execution_count": 13,
   "metadata": {},
   "outputs": [],
   "source": [
    "from sklearn.model_selection import train_test_split\n",
    "from sklearn.metrics import mean_squared_error\n",
    "y = df.BODYFAT\n",
    "x = df.iloc[:,3:] # Dropping Bodyfat as well as Density, as it is an almost perfect predictor.\n",
    "name=x.columns.tolist()\n",
    "n=len(df)"
   ]
  },
  {
   "cell_type": "code",
   "execution_count": 14,
   "metadata": {},
   "outputs": [
    {
     "name": "stdout",
     "output_type": "stream",
     "text": [
      "Lasso Root Mean Squared Error: 4.101344305254341\n"
     ]
    }
   ],
   "source": [
    "from sklearn.linear_model import Lasso\n",
    "\n",
    "lasso_reg = Lasso()\n",
    "lasso_reg.fit(x,y)\n",
    "\n",
    "bodyfat_predictions_l = lasso_reg.predict(x)\n",
    "lasso_rmse = np.sqrt(mean_squared_error(y,bodyfat_predictions_l))\n",
    "print(\"Lasso Root Mean Squared Error:\", lasso_rmse)"
   ]
  },
  {
   "cell_type": "code",
   "execution_count": 15,
   "metadata": {
    "scrolled": true
   },
   "outputs": [
    {
     "name": "stdout",
     "output_type": "stream",
     "text": [
      "Intercept: -38.872876032040104\n",
      "\n",
      "Coefficients:\n",
      "--------------\n"
     ]
    },
    {
     "data": {
      "text/plain": [
       "AGE          0.002093\n",
       "ABDOMEN      0.838159\n",
       "WEIGHT_KG   -0.244658\n",
       "dtype: float64"
      ]
     },
     "execution_count": 15,
     "metadata": {},
     "output_type": "execute_result"
    }
   ],
   "source": [
    "print(\"Intercept:\", lasso_reg.intercept_)\n",
    "print(\"\\nCoefficients:\\n--------------\")\n",
    "b = pd.Series(lasso_reg.coef_,index=x.columns)\n",
    "b.loc[lambda x: x!=0]"
   ]
  },
  {
   "cell_type": "code",
   "execution_count": 16,
   "metadata": {
    "scrolled": true
   },
   "outputs": [
    {
     "name": "stdout",
     "output_type": "stream",
     "text": [
      "Residuals:\n",
      "     Min      1Q  Median     3Q     Max\n",
      "-10.1755 -2.9786 -0.0265 2.9991 11.3068\n",
      "\n",
      "\n",
      "Coefficients:\n",
      "             Estimate  Std. Error  t value   p value\n",
      "_intercept -38.872876   16.447420  -2.3635  0.018868\n",
      "AGE          0.002093    0.022993   0.0910  0.927549\n",
      "ADIPOSITY    0.000000    0.226066   0.0000  1.000000\n",
      "NECK        -0.000000    0.191546  -0.0000  1.000000\n",
      "CHEST        0.000000    0.073721   0.0000  1.000000\n",
      "ABDOMEN      0.838159    0.071666  11.6954  0.000000\n",
      "HIP         -0.000000    0.088637  -0.0000  1.000000\n",
      "THIGH        0.000000    0.124522   0.0000  1.000000\n",
      "KNEE        -0.000000    0.214541  -0.0000  1.000000\n",
      "ANKLE       -0.000000    0.197558  -0.0000  1.000000\n",
      "BICEPS       0.000000    0.156536   0.0000  1.000000\n",
      "FOREARM      0.000000    0.178924   0.0000  1.000000\n",
      "WRIST       -0.000000    0.480794  -0.0000  1.000000\n",
      "WEIGHT_KG   -0.244658    0.042404  -5.7696  0.000000\n",
      "HEIGHT_M    -0.000000    3.824742  -0.0000  1.000000\n",
      "---\n",
      "R-squared:  0.71466,    Adjusted R-squared:  0.69780\n",
      "F-statistic: 42.40 on 14 features\n"
     ]
    }
   ],
   "source": [
    "regressors.stats.summary(lasso_reg, x, y,xlabels=name)"
   ]
  },
  {
   "cell_type": "code",
   "execution_count": 17,
   "metadata": {},
   "outputs": [
    {
     "ename": "AttributeError",
     "evalue": "'Lasso' object has no attribute 'get_prediction'",
     "output_type": "error",
     "traceback": [
      "\u001b[1;31m---------------------------------------------------------------------------\u001b[0m",
      "\u001b[1;31mAttributeError\u001b[0m                            Traceback (most recent call last)",
      "\u001b[1;32m<ipython-input-17-cdb015adfd31>\u001b[0m in \u001b[0;36m<module>\u001b[1;34m\u001b[0m\n\u001b[0;32m      1\u001b[0m \u001b[1;31m#prediction levels\u001b[0m\u001b[1;33m\u001b[0m\u001b[1;33m\u001b[0m\u001b[1;33m\u001b[0m\u001b[0m\n\u001b[1;32m----> 2\u001b[1;33m \u001b[0mpredictions\u001b[0m \u001b[1;33m=\u001b[0m \u001b[0mlasso_reg\u001b[0m\u001b[1;33m.\u001b[0m\u001b[0mget_prediction\u001b[0m\u001b[1;33m(\u001b[0m\u001b[0mpredict_x\u001b[0m\u001b[1;33m)\u001b[0m\u001b[1;33m\u001b[0m\u001b[1;33m\u001b[0m\u001b[0m\n\u001b[0m\u001b[0;32m      3\u001b[0m \u001b[0mpredictions\u001b[0m\u001b[1;33m.\u001b[0m\u001b[0msummary_frame\u001b[0m\u001b[1;33m(\u001b[0m\u001b[0malpha\u001b[0m\u001b[1;33m=\u001b[0m\u001b[1;36m0.05\u001b[0m\u001b[1;33m)\u001b[0m\u001b[1;33m\u001b[0m\u001b[1;33m\u001b[0m\u001b[0m\n",
      "\u001b[1;31mAttributeError\u001b[0m: 'Lasso' object has no attribute 'get_prediction'"
     ]
    }
   ],
   "source": [
    "#prediction levels\n",
    "predictions = lasso_reg.get_prediction(predict_x)\n",
    "predictions.summary_frame(alpha=0.05)"
   ]
  },
  {
   "cell_type": "markdown",
   "metadata": {},
   "source": [
    "# Diagnostics"
   ]
  },
  {
   "cell_type": "markdown",
   "metadata": {},
   "source": [
    "## linear regression assumption"
   ]
  },
  {
   "cell_type": "markdown",
   "metadata": {},
   "source": [
    "Basically, the performance of the Lasso is well understood under the assumptions of the standard linear model. Here we mainly focus on homoscedasticity. See figure, the general impression is residuals are randomly distributed around zero. No evidence for heteroscedasiticity. "
   ]
  },
  {
   "cell_type": "code",
   "execution_count": 18,
   "metadata": {},
   "outputs": [
    {
     "name": "stderr",
     "output_type": "stream",
     "text": [
      "C:\\ProgramData\\Anaconda3\\lib\\site-packages\\sklearn\\base.py:441: UserWarning: X does not have valid feature names, but Lasso was fitted with feature names\n",
      "  warnings.warn(\n"
     ]
    },
    {
     "data": {
      "image/png": "[encoded data removed]",
      "text/plain": [
       "<Figure size 576x396 with 2 Axes>"
      ]
     },
     "metadata": {},
     "output_type": "display_data"
    },
    {
     "data": {
      "text/plain": [
       "<AxesSubplot:title={'center':'Residuals for Lasso Model'}, xlabel='Predicted Value', ylabel='Residuals'>"
      ]
     },
     "execution_count": 18,
     "metadata": {},
     "output_type": "execute_result"
    }
   ],
   "source": [
    "#内样本\n",
    "from yellowbrick.regressor import ResidualsPlot\n",
    "\n",
    "# Instantiate and fit the visualizer\n",
    "visualizer_residuals = ResidualsPlot(lasso_reg)\n",
    "visualizer_residuals.fit(x, y)\n",
    "visualizer_residuals.show()"
   ]
  },
  {
   "cell_type": "markdown",
   "metadata": {},
   "source": [
    "## outlier or high leverage point"
   ]
  },
  {
   "cell_type": "markdown",
   "metadata": {},
   "source": [
    "We also want to detect high leverage points and outliers. Cook's distance is adequate for detection. From the cook's distance plot, there are two high influence points.The first one seems clear: He has the largest weight in the whole dataset, while the second one doesn't show any obvious difference from other samples."
   ]
  },
  {
   "cell_type": "code",
   "execution_count": 19,
   "metadata": {
    "scrolled": true
   },
   "outputs": [],
   "source": [
    "from yellowbrick.base import Visualizer\n",
    "import scipy as sp\n",
    "import numpy as np\n",
    "import pandas as pd \n",
    "import matplotlib.pyplot as plt "
   ]
  },
  {
   "cell_type": "code",
   "execution_count": 46,
   "metadata": {},
   "outputs": [],
   "source": [
    "# Implemented but didn't use\n",
    "class CooksDistance(Visualizer):\n",
    "    \n",
    "    def fit(self, X, y):\n",
    "        # Leverage is computed as the diagonal of the projection matrix of X \n",
    "        # TODO: whiten X before computing leverage\n",
    "        self.leverage_ = (X * np.linalg.pinv(X).T).sum(1)\n",
    "        \n",
    "        # Compute the MSE\n",
    "        rank = np.linalg.matrix_rank(X)\n",
    "        df = X.shape[0] - rank\n",
    "        \n",
    "        resid = y - lasso_reg.fit(X, y).predict(X)\n",
    "        mse = np.dot(resid, resid) / df \n",
    "        \n",
    "        resid_studentized_internal = resid / np.sqrt(mse) / np.sqrt(1-self.leverage_)\n",
    "        \n",
    "        self.distance_ = resid_studentized_internal**2 / X.shape[1]\n",
    "        self.distance_ *= self.leverage_ / (1 - self.leverage_)\n",
    "\n",
    "        self.p_values_ = sp.stats.f.sf(self.distance_, X.shape[1], df)\n",
    "        \n",
    "        return self\n",
    "    \n",
    "    \n",
    "    def draw(self):\n",
    "        self.ax.stem(self.distance_, markerfmt=\",\", label=\"influence\")\n",
    "        self.ax.axhline(4/len(self.distance_), c='r', ls='--', lw=1, label=\"$\\frac{4}{n}$\")\n",
    "    \n",
    "    def finalize(self):\n",
    "        self.ax.legend()\n",
    "        self.ax.set_xlabel(\"instance\")\n",
    "        self.ax.set_ylabel(\"influence\")\n",
    "        self.ax.set_title(\"Cook's Distance Outlier Detection\")"
   ]
  },
  {
   "cell_type": "code",
   "execution_count": 51,
   "metadata": {
    "scrolled": true
   },
   "outputs": [
    {
     "data": {
      "image/png": "[encoded data removed]",
      "text/plain": [
       "<Figure size 576x396 with 1 Axes>"
      ]
     },
     "metadata": {},
     "output_type": "display_data"
    },
    {
     "data": {
      "text/plain": [
       "<AxesSubplot:title={'center':\"Cook's Distance Outlier Detection\"}, xlabel='instance index', ylabel='influence (I)'>"
      ]
     },
     "execution_count": 51,
     "metadata": {},
     "output_type": "execute_result"
    }
   ],
   "source": [
    "from yellowbrick.regressor import CooksDistance\n",
    "# Instantiate and fit the visualizer\n",
    "visualizer = CooksDistance()\n",
    "visualizer.fit(x, y)\n",
    "visualizer.show()"
   ]
  },
  {
   "cell_type": "code",
   "execution_count": 52,
   "metadata": {
    "scrolled": false
   },
   "outputs": [
    {
     "data": {
      "text/plain": [
       "38    0.416782\n",
       "41    0.055931\n",
       "85    0.107991\n",
       "dtype: float64"
      ]
     },
     "execution_count": 52,
     "metadata": {},
     "output_type": "execute_result"
    }
   ],
   "source": [
    "visualizer.distance_[visualizer.distance_>0.05]"
   ]
  },
  {
   "cell_type": "code",
   "execution_count": 54,
   "metadata": {},
   "outputs": [
    {
     "data": {
      "text/html": [
       "<div>\n",
       "<style scoped>\n",
       "    .dataframe tbody tr th:only-of-type {\n",
       "        vertical-align: middle;\n",
       "    }\n",
       "\n",
       "    .dataframe tbody tr th {\n",
       "        vertical-align: top;\n",
       "    }\n",
       "\n",
       "    .dataframe thead th {\n",
       "        text-align: right;\n",
       "    }\n",
       "</style>\n",
       "<table border=\"1\" class=\"dataframe\">\n",
       "  <thead>\n",
       "    <tr style=\"text-align: right;\">\n",
       "      <th></th>\n",
       "      <th>38</th>\n",
       "      <th>41</th>\n",
       "      <th>85</th>\n",
       "    </tr>\n",
       "  </thead>\n",
       "  <tbody>\n",
       "    <tr>\n",
       "      <th>IDNO</th>\n",
       "      <td>39.00000</td>\n",
       "      <td>42.0000</td>\n",
       "      <td>86.0000</td>\n",
       "    </tr>\n",
       "    <tr>\n",
       "      <th>BODYFAT</th>\n",
       "      <td>33.80000</td>\n",
       "      <td>31.7000</td>\n",
       "      <td>25.8000</td>\n",
       "    </tr>\n",
       "    <tr>\n",
       "      <th>DENSITY</th>\n",
       "      <td>1.02020</td>\n",
       "      <td>1.0250</td>\n",
       "      <td>1.0386</td>\n",
       "    </tr>\n",
       "    <tr>\n",
       "      <th>AGE</th>\n",
       "      <td>46.00000</td>\n",
       "      <td>44.0000</td>\n",
       "      <td>67.0000</td>\n",
       "    </tr>\n",
       "    <tr>\n",
       "      <th>WEIGHT</th>\n",
       "      <td>363.15000</td>\n",
       "      <td>205.0000</td>\n",
       "      <td>167.0000</td>\n",
       "    </tr>\n",
       "    <tr>\n",
       "      <th>HEIGHT</th>\n",
       "      <td>72.25000</td>\n",
       "      <td>69.5000</td>\n",
       "      <td>67.5000</td>\n",
       "    </tr>\n",
       "    <tr>\n",
       "      <th>ADIPOSITY</th>\n",
       "      <td>48.90000</td>\n",
       "      <td>29.9000</td>\n",
       "      <td>26.0000</td>\n",
       "    </tr>\n",
       "    <tr>\n",
       "      <th>NECK</th>\n",
       "      <td>51.20000</td>\n",
       "      <td>36.6000</td>\n",
       "      <td>36.5000</td>\n",
       "    </tr>\n",
       "    <tr>\n",
       "      <th>CHEST</th>\n",
       "      <td>136.20000</td>\n",
       "      <td>106.0000</td>\n",
       "      <td>98.9000</td>\n",
       "    </tr>\n",
       "    <tr>\n",
       "      <th>ABDOMEN</th>\n",
       "      <td>148.10000</td>\n",
       "      <td>104.3000</td>\n",
       "      <td>89.7000</td>\n",
       "    </tr>\n",
       "    <tr>\n",
       "      <th>HIP</th>\n",
       "      <td>147.70000</td>\n",
       "      <td>115.5000</td>\n",
       "      <td>96.2000</td>\n",
       "    </tr>\n",
       "    <tr>\n",
       "      <th>THIGH</th>\n",
       "      <td>87.30000</td>\n",
       "      <td>70.6000</td>\n",
       "      <td>54.7000</td>\n",
       "    </tr>\n",
       "    <tr>\n",
       "      <th>KNEE</th>\n",
       "      <td>49.10000</td>\n",
       "      <td>42.5000</td>\n",
       "      <td>37.8000</td>\n",
       "    </tr>\n",
       "    <tr>\n",
       "      <th>ANKLE</th>\n",
       "      <td>29.60000</td>\n",
       "      <td>23.7000</td>\n",
       "      <td>33.7000</td>\n",
       "    </tr>\n",
       "    <tr>\n",
       "      <th>BICEPS</th>\n",
       "      <td>45.00000</td>\n",
       "      <td>33.6000</td>\n",
       "      <td>32.4000</td>\n",
       "    </tr>\n",
       "    <tr>\n",
       "      <th>FOREARM</th>\n",
       "      <td>29.00000</td>\n",
       "      <td>28.7000</td>\n",
       "      <td>27.7000</td>\n",
       "    </tr>\n",
       "    <tr>\n",
       "      <th>WRIST</th>\n",
       "      <td>21.40000</td>\n",
       "      <td>17.4000</td>\n",
       "      <td>18.2000</td>\n",
       "    </tr>\n",
       "    <tr>\n",
       "      <th>WEIGHT_KG</th>\n",
       "      <td>164.50695</td>\n",
       "      <td>92.8650</td>\n",
       "      <td>75.6510</td>\n",
       "    </tr>\n",
       "    <tr>\n",
       "      <th>HEIGHT_M</th>\n",
       "      <td>1.83515</td>\n",
       "      <td>0.7493</td>\n",
       "      <td>1.7145</td>\n",
       "    </tr>\n",
       "  </tbody>\n",
       "</table>\n",
       "</div>"
      ],
      "text/plain": [
       "                  38        41        85\n",
       "IDNO        39.00000   42.0000   86.0000\n",
       "BODYFAT     33.80000   31.7000   25.8000\n",
       "DENSITY      1.02020    1.0250    1.0386\n",
       "AGE         46.00000   44.0000   67.0000\n",
       "WEIGHT     363.15000  205.0000  167.0000\n",
       "HEIGHT      72.25000   69.5000   67.5000\n",
       "ADIPOSITY   48.90000   29.9000   26.0000\n",
       "NECK        51.20000   36.6000   36.5000\n",
       "CHEST      136.20000  106.0000   98.9000\n",
       "ABDOMEN    148.10000  104.3000   89.7000\n",
       "HIP        147.70000  115.5000   96.2000\n",
       "THIGH       87.30000   70.6000   54.7000\n",
       "KNEE        49.10000   42.5000   37.8000\n",
       "ANKLE       29.60000   23.7000   33.7000\n",
       "BICEPS      45.00000   33.6000   32.4000\n",
       "FOREARM     29.00000   28.7000   27.7000\n",
       "WRIST       21.40000   17.4000   18.2000\n",
       "WEIGHT_KG  164.50695   92.8650   75.6510\n",
       "HEIGHT_M     1.83515    0.7493    1.7145"
      ]
     },
     "execution_count": 54,
     "metadata": {},
     "output_type": "execute_result"
    }
   ],
   "source": [
    "data.loc[[38, 41,85],:].T"
   ]
  },
  {
   "cell_type": "code",
   "execution_count": 55,
   "metadata": {
    "scrolled": false
   },
   "outputs": [
    {
     "name": "stdout",
     "output_type": "stream",
     "text": [
      "[-0.00230777 -0.          0.00462459  0.         -0.         -0.\n",
      "  0.8307892  -0.          0.         -0.         -0.          0.\n",
      "  0.         -0.         -0.21201182 -0.        ]\n",
      "-40.63467515175243\n",
      "<bound method RegressorMixin.score of Lasso(alpha=1)>\n"
     ]
    }
   ],
   "source": [
    "data_drop=df.drop([38, 85],axis=0)\n",
    "clf = linear_model.Lasso(alpha=1)\n",
    "clf.fit(data_drop.loc[:, data_drop.columns != 'BODYFAT'],data_drop['BODYFAT'])\n",
    "print(clf.coef_)\n",
    "#[0.85 0.  ]\n",
    "print(clf.intercept_)\n",
    "#0.15...\n",
    "print(clf.score)"
   ]
  },
  {
   "cell_type": "code",
   "execution_count": 56,
   "metadata": {},
   "outputs": [
    {
     "data": {
      "text/plain": [
       "0.7234556778711334"
      ]
     },
     "execution_count": 56,
     "metadata": {},
     "output_type": "execute_result"
    }
   ],
   "source": [
    "clf.score(data_drop.loc[:, data_drop.columns != 'BODYFAT'],data_drop['BODYFAT'])"
   ]
  },
  {
   "cell_type": "markdown",
   "metadata": {},
   "source": [
    "## overfitting and test performance"
   ]
  },
  {
   "cell_type": "markdown",
   "metadata": {},
   "source": [
    "By now, what we show is still the model performance on the train dataset. Out-of-sample performance is also necessary for our sample. The coeffecient of determination is computed as the performance score on test data and train data. See figure. With the larger lambda, the variables in the model are less, but test score is non-decreasing. Therefore, the models with more strict penalty on variable selection will perform as well as those without penalty.\n",
    "Another surprise is the train score. Althought the larger lambda results in a drop in the train score, it not a bad idea. The improving performance on test data claims that we actually are getting out of the overfitting trap."
   ]
  },
  {
   "cell_type": "code",
   "execution_count": 84,
   "metadata": {
    "scrolled": true
   },
   "outputs": [
    {
     "name": "stderr",
     "output_type": "stream",
     "text": [
      "C:\\ProgramData\\Anaconda3\\lib\\site-packages\\sklearn\\model_selection\\_validation.py:681: UserWarning: With alpha=0, this algorithm does not converge well. You are advised to use the LinearRegression estimator\n",
      "  estimator.fit(X_train, y_train, **fit_params)\n",
      "C:\\ProgramData\\Anaconda3\\lib\\site-packages\\sklearn\\linear_model\\_coordinate_descent.py:645: UserWarning: Coordinate descent with no regularization may lead to unexpected results and is discouraged.\n",
      "  model = cd_fast.enet_coordinate_descent(\n",
      "C:\\ProgramData\\Anaconda3\\lib\\site-packages\\sklearn\\linear_model\\_coordinate_descent.py:645: ConvergenceWarning: Objective did not converge. You might want to increase the number of iterations, check the scale of the features or consider increasing regularisation. Duality gap: 1.486e+03, tolerance: 1.178e+00 Linear regression models with null weight for the l1 regularization term are more efficiently fitted using one of the solvers implemented in sklearn.linear_model.Ridge/RidgeCV instead.\n",
      "  model = cd_fast.enet_coordinate_descent(\n",
      "C:\\ProgramData\\Anaconda3\\lib\\site-packages\\sklearn\\model_selection\\_validation.py:681: UserWarning: With alpha=0, this algorithm does not converge well. You are advised to use the LinearRegression estimator\n",
      "  estimator.fit(X_train, y_train, **fit_params)\n",
      "C:\\ProgramData\\Anaconda3\\lib\\site-packages\\sklearn\\linear_model\\_coordinate_descent.py:645: UserWarning: Coordinate descent with no regularization may lead to unexpected results and is discouraged.\n",
      "  model = cd_fast.enet_coordinate_descent(\n",
      "C:\\ProgramData\\Anaconda3\\lib\\site-packages\\sklearn\\linear_model\\_coordinate_descent.py:645: ConvergenceWarning: Objective did not converge. You might want to increase the number of iterations, check the scale of the features or consider increasing regularisation. Duality gap: 1.461e+03, tolerance: 1.192e+00 Linear regression models with null weight for the l1 regularization term are more efficiently fitted using one of the solvers implemented in sklearn.linear_model.Ridge/RidgeCV instead.\n",
      "  model = cd_fast.enet_coordinate_descent(\n",
      "C:\\ProgramData\\Anaconda3\\lib\\site-packages\\sklearn\\linear_model\\_coordinate_descent.py:645: ConvergenceWarning: Objective did not converge. You might want to increase the number of iterations, check the scale of the features or consider increasing regularisation. Duality gap: 5.894e+00, tolerance: 1.192e+00\n",
      "  model = cd_fast.enet_coordinate_descent(\n",
      "C:\\ProgramData\\Anaconda3\\lib\\site-packages\\sklearn\\model_selection\\_validation.py:681: UserWarning: With alpha=0, this algorithm does not converge well. You are advised to use the LinearRegression estimator\n",
      "  estimator.fit(X_train, y_train, **fit_params)\n",
      "C:\\ProgramData\\Anaconda3\\lib\\site-packages\\sklearn\\linear_model\\_coordinate_descent.py:645: UserWarning: Coordinate descent with no regularization may lead to unexpected results and is discouraged.\n",
      "  model = cd_fast.enet_coordinate_descent(\n",
      "C:\\ProgramData\\Anaconda3\\lib\\site-packages\\sklearn\\linear_model\\_coordinate_descent.py:645: ConvergenceWarning: Objective did not converge. You might want to increase the number of iterations, check the scale of the features or consider increasing regularisation. Duality gap: 1.399e+03, tolerance: 1.097e+00 Linear regression models with null weight for the l1 regularization term are more efficiently fitted using one of the solvers implemented in sklearn.linear_model.Ridge/RidgeCV instead.\n",
      "  model = cd_fast.enet_coordinate_descent(\n",
      "C:\\ProgramData\\Anaconda3\\lib\\site-packages\\sklearn\\model_selection\\_validation.py:681: UserWarning: With alpha=0, this algorithm does not converge well. You are advised to use the LinearRegression estimator\n",
      "  estimator.fit(X_train, y_train, **fit_params)\n",
      "C:\\ProgramData\\Anaconda3\\lib\\site-packages\\sklearn\\linear_model\\_coordinate_descent.py:645: UserWarning: Coordinate descent with no regularization may lead to unexpected results and is discouraged.\n",
      "  model = cd_fast.enet_coordinate_descent(\n",
      "C:\\ProgramData\\Anaconda3\\lib\\site-packages\\sklearn\\linear_model\\_coordinate_descent.py:645: ConvergenceWarning: Objective did not converge. You might want to increase the number of iterations, check the scale of the features or consider increasing regularisation. Duality gap: 1.498e+03, tolerance: 1.236e+00 Linear regression models with null weight for the l1 regularization term are more efficiently fitted using one of the solvers implemented in sklearn.linear_model.Ridge/RidgeCV instead.\n",
      "  model = cd_fast.enet_coordinate_descent(\n",
      "C:\\ProgramData\\Anaconda3\\lib\\site-packages\\sklearn\\model_selection\\_validation.py:681: UserWarning: With alpha=0, this algorithm does not converge well. You are advised to use the LinearRegression estimator\n",
      "  estimator.fit(X_train, y_train, **fit_params)\n",
      "C:\\ProgramData\\Anaconda3\\lib\\site-packages\\sklearn\\linear_model\\_coordinate_descent.py:645: UserWarning: Coordinate descent with no regularization may lead to unexpected results and is discouraged.\n",
      "  model = cd_fast.enet_coordinate_descent(\n",
      "C:\\ProgramData\\Anaconda3\\lib\\site-packages\\sklearn\\linear_model\\_coordinate_descent.py:645: ConvergenceWarning: Objective did not converge. You might want to increase the number of iterations, check the scale of the features or consider increasing regularisation. Duality gap: 1.500e+03, tolerance: 1.228e+00 Linear regression models with null weight for the l1 regularization term are more efficiently fitted using one of the solvers implemented in sklearn.linear_model.Ridge/RidgeCV instead.\n",
      "  model = cd_fast.enet_coordinate_descent(\n"
     ]
    },
    {
     "data": {
      "image/png": "[encoded data removed]",
      "text/plain": [
       "<Figure size 576x396 with 1 Axes>"
      ]
     },
     "metadata": {},
     "output_type": "display_data"
    }
   ],
   "source": [
    "from sklearn.model_selection import validation_curve\n",
    "import numpy as np\n",
    "indices = np.arange(y.shape[0])\n",
    "np.random.shuffle(indices)\n",
    "train_scores, test_scores = validation_curve(\n",
    "    linear_model.Lasso(), x.loc[indices], y[indices], param_name=\"alpha\", param_range=np.arange(0, 1, 0.02),\n",
    "    cv=5)\n",
    "train_mean = np.mean(train_scores, axis=1)\n",
    "test_mean = np.mean(test_scores, axis=1)\n",
    "#\n",
    "# Plot the model scores (accuracy) against the paramater range\n",
    "#\n",
    "plt.plot(np.arange(0, 1, 0.02), train_mean,\n",
    "         marker='o', markersize=5,\n",
    "         color='blue', label='Training Accuracy')\n",
    "plt.plot(np.arange(0, 1, 0.02), test_mean,\n",
    "         marker='o', markersize=5,\n",
    "         color='green', label='Validation Accuracy')\n",
    "plt.xlabel('alpha')\n",
    "plt.ylabel('scores')\n",
    "plt.grid()\n",
    "plt.show()"
   ]
  },
  {
   "cell_type": "markdown",
   "metadata": {},
   "source": [
    "Intuitively, we want to identify which feature is the most important in the data. Here we calculate the importance based on the feature influece on the r square."
   ]
  },
  {
   "cell_type": "code",
   "execution_count": 85,
   "metadata": {
    "scrolled": true
   },
   "outputs": [
    {
     "name": "stdout",
     "output_type": "stream",
     "text": [
      "ABDOMEN 2.748 +/- 0.210\n",
      "WEIGHT  0.387 +/- 0.038\n",
      "Unnamed: 00.001 +/- 0.002\n",
      "AGE     0.000 +/- 0.000\n",
      "WRIST   0.000 +/- 0.000\n",
      "FOREARM 0.000 +/- 0.000\n",
      "BICEPS  0.000 +/- 0.000\n",
      "ANKLE   0.000 +/- 0.000\n",
      "KNEE    0.000 +/- 0.000\n",
      "HIP     0.000 +/- 0.000\n",
      "CHEST   0.000 +/- 0.000\n",
      "NECK    0.000 +/- 0.000\n",
      "ADIPOSITY0.000 +/- 0.000\n",
      "HEIGHT  0.000 +/- 0.000\n",
      "THIGH   -0.000 +/- 0.001\n"
     ]
    }
   ],
   "source": [
    "from sklearn.inspection import permutation_importance\n",
    "r = permutation_importance(clf, x, y,\n",
    "                           n_repeats=30,\n",
    "                           random_state=0)\n",
    "for i in r.importances_mean.argsort()[::-1]:\n",
    "    print(f\"{x.columns[i]:<8}\"\n",
    "          f\"{r.importances_mean[i]:.3f}\"\n",
    "          f\" +/- {r.importances_std[i]:.3f}\")"
   ]
  },
  {
   "cell_type": "code",
   "execution_count": 86,
   "metadata": {},
   "outputs": [
    {
     "name": "stdout",
     "output_type": "stream",
     "text": [
      "r2\n",
      "    ABDOMEN 2.748 +/- 0.210\n",
      "    WEIGHT  0.387 +/- 0.038\n",
      "neg_mean_absolute_percentage_error\n",
      "    ABDOMEN 0.526 +/- 0.043\n",
      "    WEIGHT  0.066 +/- 0.013\n",
      "    THIGH   0.002 +/- 0.001\n",
      "    AGE     0.000 +/- 0.000\n",
      "neg_mean_squared_error\n",
      "    ABDOMEN 162.024 +/- 12.395\n",
      "    WEIGHT  22.824 +/- 2.239\n"
     ]
    }
   ],
   "source": [
    "scoring = ['r2', 'neg_mean_absolute_percentage_error', 'neg_mean_squared_error']\n",
    "r_multi = permutation_importance(\n",
    "    clf, x, y, n_repeats=30, random_state=0, scoring=scoring)\n",
    "\n",
    "for metric in r_multi:\n",
    "    print(f\"{metric}\")\n",
    "    r = r_multi[metric]\n",
    "    for i in r.importances_mean.argsort()[::-1]:\n",
    "        if r.importances_mean[i] - 2 * r.importances_std[i] > 0:\n",
    "            print(f\"    {x.columns[i]:<8}\"\n",
    "                  f\"{r.importances_mean[i]:.3f}\"\n",
    "                  f\" +/- {r.importances_std[i]:.3f}\")"
   ]
  },
  {
   "cell_type": "code",
   "execution_count": null,
   "metadata": {},
   "outputs": [],
   "source": []
  }
 ],
 "metadata": {
  "kernelspec": {
   "display_name": "Python 3",
   "language": "python",
   "name": "python3"
  },
  "language_info": {
   "codemirror_mode": {
    "name": "ipython",
    "version": 3
   },
   "file_extension": ".py",
   "mimetype": "text/x-python",
   "name": "python",
   "nbconvert_exporter": "python",
   "pygments_lexer": "ipython3",
   "version": "3.8.8"
  }
 },
 "nbformat": 4,
 "nbformat_minor": 4
}
