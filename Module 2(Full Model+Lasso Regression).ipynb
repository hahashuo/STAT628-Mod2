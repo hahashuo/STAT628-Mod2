{
 "cells": [
  {
   "cell_type": "code",
   "execution_count": 1,
   "metadata": {},
   "outputs": [],
   "source": [
    "import numpy as np\n",
    "import pandas as pd\n",
    "import scipy as sp\n",
    "import scipy.stats\n",
    "from sklearn import datasets, linear_model\n",
    "from math import sqrt\n",
    "import matplotlib.pyplot as plt\n",
    "import regressors\n",
    "from regressors import stats"
   ]
  },
  {
   "cell_type": "code",
   "execution_count": 2,
   "metadata": {},
   "outputs": [],
   "source": [
    "#! pip install regressors"
   ]
  },
  {
   "cell_type": "code",
   "execution_count": 3,
   "metadata": {},
   "outputs": [
    {
     "data": {
      "text/html": [
       "<div>\n",
       "<style scoped>\n",
       "    .dataframe tbody tr th:only-of-type {\n",
       "        vertical-align: middle;\n",
       "    }\n",
       "\n",
       "    .dataframe tbody tr th {\n",
       "        vertical-align: top;\n",
       "    }\n",
       "\n",
       "    .dataframe thead th {\n",
       "        text-align: right;\n",
       "    }\n",
       "</style>\n",
       "<table border=\"1\" class=\"dataframe\">\n",
       "  <thead>\n",
       "    <tr style=\"text-align: right;\">\n",
       "      <th></th>\n",
       "      <th>IDNO</th>\n",
       "      <th>BODYFAT</th>\n",
       "      <th>DENSITY</th>\n",
       "      <th>AGE</th>\n",
       "      <th>ADIPOSITY</th>\n",
       "      <th>NECK</th>\n",
       "      <th>CHEST</th>\n",
       "      <th>ABDOMEN</th>\n",
       "      <th>HIP</th>\n",
       "      <th>THIGH</th>\n",
       "      <th>KNEE</th>\n",
       "      <th>ANKLE</th>\n",
       "      <th>BICEPS</th>\n",
       "      <th>FOREARM</th>\n",
       "      <th>WRIST</th>\n",
       "      <th>WEIGHT_KG</th>\n",
       "      <th>HEIGHT_M</th>\n",
       "    </tr>\n",
       "  </thead>\n",
       "  <tbody>\n",
       "    <tr>\n",
       "      <th>0</th>\n",
       "      <td>1</td>\n",
       "      <td>12.6</td>\n",
       "      <td>1.0708</td>\n",
       "      <td>23</td>\n",
       "      <td>23.7</td>\n",
       "      <td>36.2</td>\n",
       "      <td>93.1</td>\n",
       "      <td>85.2</td>\n",
       "      <td>94.5</td>\n",
       "      <td>59.0</td>\n",
       "      <td>37.3</td>\n",
       "      <td>21.9</td>\n",
       "      <td>32.0</td>\n",
       "      <td>27.4</td>\n",
       "      <td>17.1</td>\n",
       "      <td>69.87525</td>\n",
       "      <td>1.72085</td>\n",
       "    </tr>\n",
       "    <tr>\n",
       "      <th>1</th>\n",
       "      <td>2</td>\n",
       "      <td>6.9</td>\n",
       "      <td>1.0853</td>\n",
       "      <td>22</td>\n",
       "      <td>23.4</td>\n",
       "      <td>38.5</td>\n",
       "      <td>93.6</td>\n",
       "      <td>83.0</td>\n",
       "      <td>98.7</td>\n",
       "      <td>58.7</td>\n",
       "      <td>37.3</td>\n",
       "      <td>23.4</td>\n",
       "      <td>30.5</td>\n",
       "      <td>28.9</td>\n",
       "      <td>18.2</td>\n",
       "      <td>78.48225</td>\n",
       "      <td>1.83515</td>\n",
       "    </tr>\n",
       "    <tr>\n",
       "      <th>2</th>\n",
       "      <td>3</td>\n",
       "      <td>24.6</td>\n",
       "      <td>1.0414</td>\n",
       "      <td>22</td>\n",
       "      <td>24.7</td>\n",
       "      <td>34.0</td>\n",
       "      <td>95.8</td>\n",
       "      <td>87.9</td>\n",
       "      <td>99.2</td>\n",
       "      <td>59.6</td>\n",
       "      <td>38.9</td>\n",
       "      <td>24.0</td>\n",
       "      <td>28.8</td>\n",
       "      <td>25.2</td>\n",
       "      <td>16.6</td>\n",
       "      <td>69.76200</td>\n",
       "      <td>1.68275</td>\n",
       "    </tr>\n",
       "    <tr>\n",
       "      <th>3</th>\n",
       "      <td>4</td>\n",
       "      <td>10.9</td>\n",
       "      <td>1.0751</td>\n",
       "      <td>26</td>\n",
       "      <td>24.9</td>\n",
       "      <td>37.4</td>\n",
       "      <td>101.8</td>\n",
       "      <td>86.4</td>\n",
       "      <td>101.2</td>\n",
       "      <td>60.1</td>\n",
       "      <td>37.3</td>\n",
       "      <td>22.8</td>\n",
       "      <td>32.4</td>\n",
       "      <td>29.4</td>\n",
       "      <td>18.2</td>\n",
       "      <td>83.69175</td>\n",
       "      <td>1.83515</td>\n",
       "    </tr>\n",
       "    <tr>\n",
       "      <th>4</th>\n",
       "      <td>5</td>\n",
       "      <td>27.8</td>\n",
       "      <td>1.0340</td>\n",
       "      <td>24</td>\n",
       "      <td>25.6</td>\n",
       "      <td>34.4</td>\n",
       "      <td>97.3</td>\n",
       "      <td>100.0</td>\n",
       "      <td>101.9</td>\n",
       "      <td>63.2</td>\n",
       "      <td>42.2</td>\n",
       "      <td>24.0</td>\n",
       "      <td>32.2</td>\n",
       "      <td>27.7</td>\n",
       "      <td>17.7</td>\n",
       "      <td>83.46525</td>\n",
       "      <td>1.80975</td>\n",
       "    </tr>\n",
       "  </tbody>\n",
       "</table>\n",
       "</div>"
      ],
      "text/plain": [
       "   IDNO  BODYFAT  DENSITY  AGE  ADIPOSITY  NECK  CHEST  ABDOMEN    HIP  THIGH  \\\n",
       "0     1     12.6   1.0708   23       23.7  36.2   93.1     85.2   94.5   59.0   \n",
       "1     2      6.9   1.0853   22       23.4  38.5   93.6     83.0   98.7   58.7   \n",
       "2     3     24.6   1.0414   22       24.7  34.0   95.8     87.9   99.2   59.6   \n",
       "3     4     10.9   1.0751   26       24.9  37.4  101.8     86.4  101.2   60.1   \n",
       "4     5     27.8   1.0340   24       25.6  34.4   97.3    100.0  101.9   63.2   \n",
       "\n",
       "   KNEE  ANKLE  BICEPS  FOREARM  WRIST  WEIGHT_KG  HEIGHT_M  \n",
       "0  37.3   21.9    32.0     27.4   17.1   69.87525   1.72085  \n",
       "1  37.3   23.4    30.5     28.9   18.2   78.48225   1.83515  \n",
       "2  38.9   24.0    28.8     25.2   16.6   69.76200   1.68275  \n",
       "3  37.3   22.8    32.4     29.4   18.2   83.69175   1.83515  \n",
       "4  42.2   24.0    32.2     27.7   17.7   83.46525   1.80975  "
      ]
     },
     "execution_count": 3,
     "metadata": {},
     "output_type": "execute_result"
    }
   ],
   "source": [
    "df=pd.read_csv('./Data/preprocess_data.csv')\n",
    "df=df.drop(columns=['WEIGHT','HEIGHT'])\n",
    "df.head()"
   ]
  },
  {
   "cell_type": "code",
   "execution_count": null,
   "metadata": {},
   "outputs": [],
   "source": []
  },
  {
   "cell_type": "markdown",
   "metadata": {},
   "source": [
    "Adiposity=BMI index\n",
    "Weight and height are use another system to measure with lbs and inches\n",
    "Others are measured by cm"
   ]
  },
  {
   "cell_type": "code",
   "execution_count": 4,
   "metadata": {},
   "outputs": [],
   "source": [
    "#data.describe()"
   ]
  },
  {
   "cell_type": "markdown",
   "metadata": {},
   "source": [
    "Split the dataset into response variable and predict variables"
   ]
  },
  {
   "cell_type": "code",
   "execution_count": 33,
   "metadata": {},
   "outputs": [],
   "source": [
    "from sklearn.model_selection import train_test_split\n",
    "from sklearn.metrics import mean_squared_error\n",
    "y = df.BODYFAT\n",
    "x = df.iloc[:,3:] # Dropping Bodyfat as well as Density, as it is an almost perfect predictor.\n",
    "name=x.columns.tolist()\n",
    "n=len(df)\n",
    "\n",
    "#X_train, X_test, y_train, y_test = train_test_split(x,y,test_size=0.4,random_state=42)\n",
    "#print(\"Train set\", X_train.shape)\n",
    "#print(\"Test set\", X_test.shape)"
   ]
  },
  {
   "cell_type": "code",
   "execution_count": 34,
   "metadata": {},
   "outputs": [
    {
     "data": {
      "text/plain": [
       "list"
      ]
     },
     "execution_count": 34,
     "metadata": {},
     "output_type": "execute_result"
    }
   ],
   "source": [
    "type(name)"
   ]
  },
  {
   "cell_type": "code",
   "execution_count": 35,
   "metadata": {},
   "outputs": [],
   "source": [
    "#using t test to calculate the CI function\n",
    "def mean_confidence_interval(mean,std,n,confidence=0.95):\n",
    "    h = std * sp.stats.t._ppf((1+confidence)/2., n-1)\n",
    "    return mean-h, mean+h"
   ]
  },
  {
   "cell_type": "markdown",
   "metadata": {},
   "source": [
    "Full Model of Linear Regression"
   ]
  },
  {
   "cell_type": "code",
   "execution_count": 46,
   "metadata": {},
   "outputs": [
    {
     "name": "stdout",
     "output_type": "stream",
     "text": [
      "Linear Regression Root Mean Squared Error: 3.8609151026390602\n"
     ]
    }
   ],
   "source": [
    "from sklearn.linear_model import LinearRegression\n",
    "\n",
    "linear_reg=LinearRegression()\n",
    "linear_reg.fit(x, y)\n",
    "bodyfat_predictions=linear_reg.predict(x)\n",
    "linear_rmse=np.sqrt(mean_squared_error(y,bodyfat_predictions))\n",
    "print(\"Linear Regression Root Mean Squared Error:\",linear_rmse)"
   ]
  },
  {
   "cell_type": "code",
   "execution_count": 47,
   "metadata": {
    "scrolled": true
   },
   "outputs": [
    {
     "name": "stdout",
     "output_type": "stream",
     "text": [
      "Intercept: -11.381626918789593\n",
      "\n",
      "Coefficients:\n",
      "--------------\n"
     ]
    },
    {
     "data": {
      "text/plain": [
       "AGE          0.055271\n",
       "ADIPOSITY    0.084196\n",
       "NECK        -0.440519\n",
       "CHEST       -0.054560\n",
       "ABDOMEN      0.879544\n",
       "HIP         -0.209664\n",
       "THIGH        0.200639\n",
       "KNEE        -0.001630\n",
       "ANKLE        0.140163\n",
       "BICEPS       0.164524\n",
       "FOREARM      0.410250\n",
       "WRIST       -1.499489\n",
       "WEIGHT_KG   -0.162894\n",
       "HEIGHT_M    -2.313418\n",
       "dtype: float64"
      ]
     },
     "execution_count": 47,
     "metadata": {},
     "output_type": "execute_result"
    }
   ],
   "source": [
    "print(\"Intercept:\", linear_reg.intercept_)\n",
    "print(\"\\nCoefficients:\\n--------------\")\n",
    "a = pd.Series(linear_reg.coef_,index=x.columns)\n",
    "a.loc[lambda x: x!=0]"
   ]
  },
  {
   "cell_type": "code",
   "execution_count": 48,
   "metadata": {},
   "outputs": [
    {
     "name": "stdout",
     "output_type": "stream",
     "text": [
      "Linear Regression: R^2 score 0.7471336456138169\n"
     ]
    }
   ],
   "source": [
    "print('Linear Regression: R^2 score',linear_reg.score(x, y))"
   ]
  },
  {
   "cell_type": "code",
   "execution_count": 17,
   "metadata": {},
   "outputs": [
    {
     "name": "stdout",
     "output_type": "stream",
     "text": [
      "Residuals:\n",
      "Min      1Q  Median      3Q      Max\n",
      "-9.9905 -2.8658  0.1449  2.5127  10.3637\n",
      "\n",
      "\n",
      "Coefficients:\n",
      "            Estimate  Std. Error  t value   p value\n",
      "_intercept  7.364541    6.893688   1.0683  0.286411\n",
      "AGE         0.073864    0.020743   3.5609  0.000442\n",
      "ADIPOSITY   0.241616    0.195576   1.2354  0.217833\n",
      "NECK       -0.586315    0.180955  -3.2401  0.001356\n",
      "CHEST      -0.127621    0.068870  -1.8531  0.065046\n",
      "ABDOMEN     0.839800    0.058705  14.3054  0.000000\n",
      "HIP        -0.332977    0.083183  -4.0029  0.000082\n",
      "THIGH       0.208041    0.117673   1.7680  0.078282\n",
      "KNEE       -0.120487    0.201539  -0.5978  0.550489\n",
      "ANKLE       0.060241    0.187288   0.3216  0.747986\n",
      "BICEPS      0.104063    0.144830   0.7185  0.473106\n",
      "FOREARM     0.408856    0.168118   2.4320  0.015718\n",
      "WRIST      -1.720106    0.453286  -3.7947  0.000185\n",
      "---\n",
      "R-squared:  0.74283,    Adjusted R-squared:  0.72992\n",
      "F-statistic: 57.53 on 12 features\n"
     ]
    }
   ],
   "source": [
    "regressors.stats.summary(linear_reg, x, y, xlabels=name)"
   ]
  },
  {
   "cell_type": "code",
   "execution_count": null,
   "metadata": {},
   "outputs": [],
   "source": []
  },
  {
   "cell_type": "code",
   "execution_count": null,
   "metadata": {},
   "outputs": [],
   "source": []
  },
  {
   "cell_type": "markdown",
   "metadata": {},
   "source": [
    "Using KFold to find the best lambda in lasso regression"
   ]
  },
  {
   "cell_type": "code",
   "execution_count": 36,
   "metadata": {},
   "outputs": [
    {
     "name": "stderr",
     "output_type": "stream",
     "text": [
      "C:\\Users\\Yixuan\\Anaconda3\\lib\\site-packages\\sklearn\\model_selection\\_validation.py:458: UserWarning: With alpha=0, this algorithm does not converge well. You are advised to use the LinearRegression estimator\n",
      "  estimator.fit(X_train, y_train, **fit_params)\n",
      "C:\\Users\\Yixuan\\Anaconda3\\lib\\site-packages\\sklearn\\linear_model\\coordinate_descent.py:477: UserWarning: Coordinate descent with no regularization may lead to unexpected results and is discouraged.\n",
      "  positive)\n",
      "C:\\Users\\Yixuan\\Anaconda3\\lib\\site-packages\\sklearn\\linear_model\\coordinate_descent.py:491: ConvergenceWarning: Objective did not converge. You might want to increase the number of iterations. Fitting data with very small alpha may cause precision problems.\n",
      "  ConvergenceWarning)\n",
      "C:\\Users\\Yixuan\\Anaconda3\\lib\\site-packages\\sklearn\\model_selection\\_validation.py:458: UserWarning: With alpha=0, this algorithm does not converge well. You are advised to use the LinearRegression estimator\n",
      "  estimator.fit(X_train, y_train, **fit_params)\n",
      "C:\\Users\\Yixuan\\Anaconda3\\lib\\site-packages\\sklearn\\linear_model\\coordinate_descent.py:477: UserWarning: Coordinate descent with no regularization may lead to unexpected results and is discouraged.\n",
      "  positive)\n",
      "C:\\Users\\Yixuan\\Anaconda3\\lib\\site-packages\\sklearn\\linear_model\\coordinate_descent.py:491: ConvergenceWarning: Objective did not converge. You might want to increase the number of iterations. Fitting data with very small alpha may cause precision problems.\n",
      "  ConvergenceWarning)\n",
      "C:\\Users\\Yixuan\\Anaconda3\\lib\\site-packages\\sklearn\\model_selection\\_validation.py:458: UserWarning: With alpha=0, this algorithm does not converge well. You are advised to use the LinearRegression estimator\n",
      "  estimator.fit(X_train, y_train, **fit_params)\n",
      "C:\\Users\\Yixuan\\Anaconda3\\lib\\site-packages\\sklearn\\linear_model\\coordinate_descent.py:477: UserWarning: Coordinate descent with no regularization may lead to unexpected results and is discouraged.\n",
      "  positive)\n",
      "C:\\Users\\Yixuan\\Anaconda3\\lib\\site-packages\\sklearn\\linear_model\\coordinate_descent.py:491: ConvergenceWarning: Objective did not converge. You might want to increase the number of iterations. Fitting data with very small alpha may cause precision problems.\n",
      "  ConvergenceWarning)\n",
      "C:\\Users\\Yixuan\\Anaconda3\\lib\\site-packages\\sklearn\\model_selection\\_validation.py:458: UserWarning: With alpha=0, this algorithm does not converge well. You are advised to use the LinearRegression estimator\n",
      "  estimator.fit(X_train, y_train, **fit_params)\n",
      "C:\\Users\\Yixuan\\Anaconda3\\lib\\site-packages\\sklearn\\linear_model\\coordinate_descent.py:477: UserWarning: Coordinate descent with no regularization may lead to unexpected results and is discouraged.\n",
      "  positive)\n",
      "C:\\Users\\Yixuan\\Anaconda3\\lib\\site-packages\\sklearn\\linear_model\\coordinate_descent.py:491: ConvergenceWarning: Objective did not converge. You might want to increase the number of iterations. Fitting data with very small alpha may cause precision problems.\n",
      "  ConvergenceWarning)\n",
      "C:\\Users\\Yixuan\\Anaconda3\\lib\\site-packages\\sklearn\\model_selection\\_validation.py:458: UserWarning: With alpha=0, this algorithm does not converge well. You are advised to use the LinearRegression estimator\n",
      "  estimator.fit(X_train, y_train, **fit_params)\n",
      "C:\\Users\\Yixuan\\Anaconda3\\lib\\site-packages\\sklearn\\linear_model\\coordinate_descent.py:477: UserWarning: Coordinate descent with no regularization may lead to unexpected results and is discouraged.\n",
      "  positive)\n",
      "C:\\Users\\Yixuan\\Anaconda3\\lib\\site-packages\\sklearn\\linear_model\\coordinate_descent.py:491: ConvergenceWarning: Objective did not converge. You might want to increase the number of iterations. Fitting data with very small alpha may cause precision problems.\n",
      "  ConvergenceWarning)\n",
      "C:\\Users\\Yixuan\\Anaconda3\\lib\\site-packages\\matplotlib\\axes\\_base.py:3157: UserWarning: Attempted to set non-positive xlimits for log-scale axis; invalid limits will be ignored.\n",
      "  'Attempted to set non-positive xlimits for log-scale axis; '\n"
     ]
    },
    {
     "data": {
      "text/plain": [
       "(0.02, 0.98)"
      ]
     },
     "execution_count": 36,
     "metadata": {},
     "output_type": "execute_result"
    },
    {
     "data": {
      "image/png": "[encoded data removed]",
      "text/plain": [
       "<Figure size 576x432 with 1 Axes>"
      ]
     },
     "metadata": {
      "needs_background": "light"
     },
     "output_type": "display_data"
    }
   ],
   "source": [
    "import matplotlib.pyplot as plt\n",
    "from sklearn.model_selection import KFold\n",
    "from sklearn.model_selection import GridSearchCV\n",
    "lasso = linear_model.Lasso(random_state=0, max_iter=10000)\n",
    "alphas = np.arange(0, 1, 0.02)\n",
    "\n",
    "tuned_parameters = [{'alpha': alphas}]\n",
    "n_folds = 5\n",
    "\n",
    "clf = GridSearchCV(lasso, tuned_parameters, cv=n_folds, refit=False)\n",
    "clf.fit(x, y)\n",
    "scores = clf.cv_results_['mean_test_score']\n",
    "scores_std = clf.cv_results_['std_test_score']\n",
    "plt.figure().set_size_inches(8, 6)\n",
    "plt.semilogx(alphas, scores)\n",
    "\n",
    "# plot error lines showing +/- std. errors of the scores\n",
    "std_error = scores_std / np.sqrt(n_folds)\n",
    "\n",
    "plt.semilogx(alphas, scores + std_error, 'b--')\n",
    "plt.semilogx(alphas, scores - std_error, 'b--')\n",
    "\n",
    "# alpha=0.2 controls the translucency of the fill color\n",
    "plt.fill_between(alphas, scores + std_error, scores - std_error, alpha=0.2)\n",
    "\n",
    "plt.ylabel('CV score +/- std error')\n",
    "plt.xlabel('alpha')\n",
    "plt.axhline(np.max(scores), linestyle='--', color='.5')\n",
    "plt.xlim([alphas[0], alphas[-1]])"
   ]
  },
  {
   "cell_type": "code",
   "execution_count": 37,
   "metadata": {},
   "outputs": [
    {
     "name": "stdout",
     "output_type": "stream",
     "text": [
      "Answer to the bonus question: how much can you trust the selection of alpha?\n",
      "\n",
      "Alpha parameters maximising the generalization score on different\n",
      "subsets of the data:\n",
      "[fold 0] alpha: 0.12000, score: 0.74362\n",
      "[fold 1] alpha: 0.98000, score: 0.44988\n"
     ]
    },
    {
     "name": "stderr",
     "output_type": "stream",
     "text": [
      "C:\\Users\\Yixuan\\Anaconda3\\lib\\site-packages\\sklearn\\linear_model\\coordinate_descent.py:473: UserWarning: Coordinate descent with alpha=0 may lead to unexpected results and is discouraged.\n",
      "  tol, rng, random, positive)\n",
      "C:\\Users\\Yixuan\\Anaconda3\\lib\\site-packages\\sklearn\\linear_model\\coordinate_descent.py:491: ConvergenceWarning: Objective did not converge. You might want to increase the number of iterations. Fitting data with very small alpha may cause precision problems.\n",
      "  ConvergenceWarning)\n",
      "C:\\Users\\Yixuan\\Anaconda3\\lib\\site-packages\\sklearn\\linear_model\\coordinate_descent.py:473: UserWarning: Coordinate descent with alpha=0 may lead to unexpected results and is discouraged.\n",
      "  tol, rng, random, positive)\n",
      "C:\\Users\\Yixuan\\Anaconda3\\lib\\site-packages\\sklearn\\linear_model\\coordinate_descent.py:491: ConvergenceWarning: Objective did not converge. You might want to increase the number of iterations. Fitting data with very small alpha may cause precision problems.\n",
      "  ConvergenceWarning)\n",
      "C:\\Users\\Yixuan\\Anaconda3\\lib\\site-packages\\sklearn\\linear_model\\coordinate_descent.py:473: UserWarning: Coordinate descent with alpha=0 may lead to unexpected results and is discouraged.\n",
      "  tol, rng, random, positive)\n",
      "C:\\Users\\Yixuan\\Anaconda3\\lib\\site-packages\\sklearn\\linear_model\\coordinate_descent.py:491: ConvergenceWarning: Objective did not converge. You might want to increase the number of iterations. Fitting data with very small alpha may cause precision problems.\n",
      "  ConvergenceWarning)\n"
     ]
    },
    {
     "name": "stdout",
     "output_type": "stream",
     "text": [
      "[fold 2] alpha: 0.08000, score: 0.70538\n",
      "\n",
      "Answer: Not very much since we obtained different alphas for different\n",
      "subsets of the data and moreover, the scores for these alphas differ\n",
      "quite substantially.\n"
     ]
    }
   ],
   "source": [
    "lasso_cv = linear_model.LassoCV(alphas=alphas, random_state=0, max_iter=10000)\n",
    "k_fold = KFold(3)\n",
    "\n",
    "print(\"Answer to the bonus question:\",\n",
    "      \"how much can you trust the selection of alpha?\")\n",
    "print()\n",
    "print(\"Alpha parameters maximising the generalization score on different\")\n",
    "print(\"subsets of the data:\")\n",
    "for k, (train, test) in enumerate(k_fold.split(x, y)):\n",
    "    lasso_cv.fit(x.loc[train], y[train])\n",
    "    print(\"[fold {0}] alpha: {1:.5f}, score: {2:.5f}\".\n",
    "          format(k, lasso_cv.alpha_, lasso_cv.score(x.loc[test], y[test])))\n",
    "print()\n",
    "print(\"Answer: Not very much since we obtained different alphas for different\")\n",
    "print(\"subsets of the data and moreover, the scores for these alphas differ\")\n",
    "print(\"quite substantially.\")\n",
    "\n",
    "plt.show()"
   ]
  },
  {
   "cell_type": "code",
   "execution_count": 38,
   "metadata": {},
   "outputs": [
    {
     "name": "stderr",
     "output_type": "stream",
     "text": [
      "C:\\Users\\Yixuan\\Anaconda3\\lib\\site-packages\\sklearn\\model_selection\\_validation.py:458: UserWarning: With alpha=0, this algorithm does not converge well. You are advised to use the LinearRegression estimator\n",
      "  estimator.fit(X_train, y_train, **fit_params)\n",
      "C:\\Users\\Yixuan\\Anaconda3\\lib\\site-packages\\sklearn\\linear_model\\coordinate_descent.py:477: UserWarning: Coordinate descent with no regularization may lead to unexpected results and is discouraged.\n",
      "  positive)\n",
      "C:\\Users\\Yixuan\\Anaconda3\\lib\\site-packages\\sklearn\\linear_model\\coordinate_descent.py:491: ConvergenceWarning: Objective did not converge. You might want to increase the number of iterations. Fitting data with very small alpha may cause precision problems.\n",
      "  ConvergenceWarning)\n",
      "C:\\Users\\Yixuan\\Anaconda3\\lib\\site-packages\\sklearn\\model_selection\\_validation.py:458: UserWarning: With alpha=0, this algorithm does not converge well. You are advised to use the LinearRegression estimator\n",
      "  estimator.fit(X_train, y_train, **fit_params)\n",
      "C:\\Users\\Yixuan\\Anaconda3\\lib\\site-packages\\sklearn\\linear_model\\coordinate_descent.py:477: UserWarning: Coordinate descent with no regularization may lead to unexpected results and is discouraged.\n",
      "  positive)\n",
      "C:\\Users\\Yixuan\\Anaconda3\\lib\\site-packages\\sklearn\\linear_model\\coordinate_descent.py:491: ConvergenceWarning: Objective did not converge. You might want to increase the number of iterations. Fitting data with very small alpha may cause precision problems.\n",
      "  ConvergenceWarning)\n",
      "C:\\Users\\Yixuan\\Anaconda3\\lib\\site-packages\\sklearn\\model_selection\\_validation.py:458: UserWarning: With alpha=0, this algorithm does not converge well. You are advised to use the LinearRegression estimator\n",
      "  estimator.fit(X_train, y_train, **fit_params)\n",
      "C:\\Users\\Yixuan\\Anaconda3\\lib\\site-packages\\sklearn\\linear_model\\coordinate_descent.py:477: UserWarning: Coordinate descent with no regularization may lead to unexpected results and is discouraged.\n",
      "  positive)\n",
      "C:\\Users\\Yixuan\\Anaconda3\\lib\\site-packages\\sklearn\\linear_model\\coordinate_descent.py:491: ConvergenceWarning: Objective did not converge. You might want to increase the number of iterations. Fitting data with very small alpha may cause precision problems.\n",
      "  ConvergenceWarning)\n",
      "C:\\Users\\Yixuan\\Anaconda3\\lib\\site-packages\\sklearn\\model_selection\\_validation.py:458: UserWarning: With alpha=0, this algorithm does not converge well. You are advised to use the LinearRegression estimator\n",
      "  estimator.fit(X_train, y_train, **fit_params)\n",
      "C:\\Users\\Yixuan\\Anaconda3\\lib\\site-packages\\sklearn\\linear_model\\coordinate_descent.py:477: UserWarning: Coordinate descent with no regularization may lead to unexpected results and is discouraged.\n",
      "  positive)\n",
      "C:\\Users\\Yixuan\\Anaconda3\\lib\\site-packages\\sklearn\\linear_model\\coordinate_descent.py:491: ConvergenceWarning: Objective did not converge. You might want to increase the number of iterations. Fitting data with very small alpha may cause precision problems.\n",
      "  ConvergenceWarning)\n",
      "C:\\Users\\Yixuan\\Anaconda3\\lib\\site-packages\\sklearn\\model_selection\\_validation.py:458: UserWarning: With alpha=0, this algorithm does not converge well. You are advised to use the LinearRegression estimator\n",
      "  estimator.fit(X_train, y_train, **fit_params)\n",
      "C:\\Users\\Yixuan\\Anaconda3\\lib\\site-packages\\sklearn\\linear_model\\coordinate_descent.py:477: UserWarning: Coordinate descent with no regularization may lead to unexpected results and is discouraged.\n",
      "  positive)\n",
      "C:\\Users\\Yixuan\\Anaconda3\\lib\\site-packages\\sklearn\\linear_model\\coordinate_descent.py:491: ConvergenceWarning: Objective did not converge. You might want to increase the number of iterations. Fitting data with very small alpha may cause precision problems.\n",
      "  ConvergenceWarning)\n"
     ]
    }
   ],
   "source": [
    "from sklearn.model_selection import validation_curve\n",
    "indices = np.arange(y.shape[0])\n",
    "np.random.shuffle(indices)\n",
    "train_scores, test_scores = validation_curve(\n",
    "    linear_model.Lasso(), x.loc[indices], y[indices], param_name=\"alpha\", param_range=np.arange(0, 1, 0.02),\n",
    "    cv=5)"
   ]
  },
  {
   "cell_type": "code",
   "execution_count": 39,
   "metadata": {},
   "outputs": [
    {
     "data": {
      "image/png": "[encoded data removed]",
      "text/plain": [
       "<Figure size 432x288 with 1 Axes>"
      ]
     },
     "metadata": {
      "needs_background": "light"
     },
     "output_type": "display_data"
    }
   ],
   "source": [
    "train_mean = np.mean(train_scores, axis=1)\n",
    "test_mean = np.mean(test_scores, axis=1)\n",
    "#\n",
    "# Plot the model scores (accuracy) against the paramater range\n",
    "#\n",
    "plt.plot(np.arange(0, 1, 0.02), train_mean,\n",
    "         marker='o', markersize=5,\n",
    "         color='blue', label='Training Accuracy')\n",
    "plt.plot(np.arange(0, 1, 0.02), test_mean,\n",
    "         marker='o', markersize=5,\n",
    "         color='green', label='Validation Accuracy')\n",
    "plt.legend()\n",
    "plt.xlabel('lambda')\n",
    "plt.ylabel('scores')\n",
    "plt.grid()\n",
    "plt.savefig(\"score of training and testing(lambda)\")\n",
    "plt.show()"
   ]
  },
  {
   "cell_type": "markdown",
   "metadata": {},
   "source": [
    "Lasso Regression with lambda=1"
   ]
  },
  {
   "cell_type": "code",
   "execution_count": null,
   "metadata": {},
   "outputs": [],
   "source": []
  },
  {
   "cell_type": "code",
   "execution_count": 2,
   "metadata": {},
   "outputs": [
    {
     "ename": "NameError",
     "evalue": "name 'x' is not defined",
     "output_type": "error",
     "traceback": [
      "\u001b[1;31m---------------------------------------------------------------------------\u001b[0m",
      "\u001b[1;31mNameError\u001b[0m                                 Traceback (most recent call last)",
      "\u001b[1;32m<ipython-input-2-8f25f6f4e852>\u001b[0m in \u001b[0;36m<module>\u001b[1;34m\u001b[0m\n\u001b[0;32m      2\u001b[0m \u001b[1;33m\u001b[0m\u001b[0m\n\u001b[0;32m      3\u001b[0m \u001b[0mlasso_reg\u001b[0m \u001b[1;33m=\u001b[0m \u001b[0mLasso\u001b[0m\u001b[1;33m(\u001b[0m\u001b[1;33m)\u001b[0m\u001b[1;33m\u001b[0m\u001b[1;33m\u001b[0m\u001b[0m\n\u001b[1;32m----> 4\u001b[1;33m \u001b[0mlasso_reg\u001b[0m\u001b[1;33m.\u001b[0m\u001b[0mfit\u001b[0m\u001b[1;33m(\u001b[0m\u001b[0mx\u001b[0m\u001b[1;33m,\u001b[0m\u001b[0my\u001b[0m\u001b[1;33m)\u001b[0m\u001b[1;33m\u001b[0m\u001b[1;33m\u001b[0m\u001b[0m\n\u001b[0m\u001b[0;32m      5\u001b[0m \u001b[1;33m\u001b[0m\u001b[0m\n\u001b[0;32m      6\u001b[0m \u001b[0mbodyfat_predictions_l\u001b[0m \u001b[1;33m=\u001b[0m \u001b[0mlasso_reg\u001b[0m\u001b[1;33m.\u001b[0m\u001b[0mpredict\u001b[0m\u001b[1;33m(\u001b[0m\u001b[0mx\u001b[0m\u001b[1;33m)\u001b[0m\u001b[1;33m\u001b[0m\u001b[1;33m\u001b[0m\u001b[0m\n",
      "\u001b[1;31mNameError\u001b[0m: name 'x' is not defined"
     ]
    }
   ],
   "source": [
    "from sklearn.linear_model import Lasso\n",
    "\n",
    "lasso_reg = Lasso()\n",
    "lasso_reg.fit(x,y)\n",
    "\n",
    "bodyfat_predictions_l = lasso_reg.predict(x)\n",
    "lasso_rmse = np.sqrt(mean_squared_error(y,bodyfat_predictions_l))\n",
    "print(\"Lasso Root Mean Squared Error:\", lasso_rmse)"
   ]
  },
  {
   "cell_type": "code",
   "execution_count": null,
   "metadata": {},
   "outputs": [],
   "source": [
    "print(\"Intercept:\", lasso_reg.intercept_)\n",
    "print(\"\\nCoefficients:\\n--------------\")\n",
    "b = pd.Series(lasso_reg.coef_,index=x.columns)\n",
    "b.loc[lambda x: x!=0]"
   ]
  },
  {
   "cell_type": "code",
   "execution_count": 44,
   "metadata": {},
   "outputs": [
    {
     "name": "stdout",
     "output_type": "stream",
     "text": [
      "Lasso Regression with lambda=1: R^2 score 0.7146597730592293\n"
     ]
    }
   ],
   "source": [
    "print('Lasso Regression with lambda=1: R^2 score', lasso_reg.score(x, y))"
   ]
  },
  {
   "cell_type": "code",
   "execution_count": 45,
   "metadata": {},
   "outputs": [
    {
     "name": "stdout",
     "output_type": "stream",
     "text": [
      "Residuals:\n",
      "Min      1Q  Median      3Q      Max\n",
      "-10.1755 -2.9786 -0.0265  2.9991  11.3068\n",
      "\n",
      "\n",
      "Coefficients:\n",
      "             Estimate  Std. Error  t value   p value\n",
      "_intercept -38.872876   16.447420  -2.3635  0.018868\n",
      "AGE          0.002093    0.022993   0.0910  0.927549\n",
      "ADIPOSITY    0.000000    0.226066   0.0000  1.000000\n",
      "NECK        -0.000000    0.191546  -0.0000  1.000000\n",
      "CHEST        0.000000    0.073721   0.0000  1.000000\n",
      "ABDOMEN      0.838159    0.071666  11.6954  0.000000\n",
      "HIP         -0.000000    0.088637  -0.0000  1.000000\n",
      "THIGH        0.000000    0.124522   0.0000  1.000000\n",
      "KNEE        -0.000000    0.214541  -0.0000  1.000000\n",
      "ANKLE       -0.000000    0.197558  -0.0000  1.000000\n",
      "BICEPS       0.000000    0.156536   0.0000  1.000000\n",
      "FOREARM      0.000000    0.178924   0.0000  1.000000\n",
      "WRIST       -0.000000    0.480794  -0.0000  1.000000\n",
      "WEIGHT_KG   -0.244658    0.042404  -5.7696  0.000000\n",
      "HEIGHT_M    -0.000000    3.824742  -0.0000  1.000000\n",
      "---\n",
      "R-squared:  0.71466,    Adjusted R-squared:  0.69780\n",
      "F-statistic: 42.40 on 14 features\n"
     ]
    }
   ],
   "source": [
    "regressors.stats.summary(lasso_reg, x, y,xlabels=name)"
   ]
  },
  {
   "cell_type": "code",
   "execution_count": 42,
   "metadata": {},
   "outputs": [
    {
     "data": {
      "text/plain": [
       "(-71.26541553044535, -6.480336469554636)"
      ]
     },
     "execution_count": 42,
     "metadata": {},
     "output_type": "execute_result"
    }
   ],
   "source": [
    "#CI of intercept\n",
    "mean_confidence_interval(mean=-38.872876,std=16.447420,n=n)"
   ]
  },
  {
   "cell_type": "code",
   "execution_count": 31,
   "metadata": {},
   "outputs": [
    {
     "data": {
      "text/plain": [
       "(-0.043190799004556954, 0.04737679900455695)"
      ]
     },
     "execution_count": 31,
     "metadata": {},
     "output_type": "execute_result"
    }
   ],
   "source": [
    "#CI of age\n",
    "mean_confidence_interval(mean=0.002093,std=0.022993,n=n)"
   ]
  },
  {
   "cell_type": "code",
   "execution_count": 32,
   "metadata": {},
   "outputs": [
    {
     "data": {
      "text/plain": [
       "(0.6970156633557788, 0.9793023366442212)"
      ]
     },
     "execution_count": 32,
     "metadata": {},
     "output_type": "execute_result"
    }
   ],
   "source": [
    "#CI of abdomen\n",
    "mean_confidence_interval(mean=0.838159,std=0.071666,n=n)"
   ]
  },
  {
   "cell_type": "code",
   "execution_count": 33,
   "metadata": {},
   "outputs": [
    {
     "data": {
      "text/plain": [
       "(-0.32817099147519824, -0.16114500852480176)"
      ]
     },
     "execution_count": 33,
     "metadata": {},
     "output_type": "execute_result"
    }
   ],
   "source": [
    "#CI of weight_kg\n",
    "mean_confidence_interval(mean=-0.244658,std=0.042404,n=n)"
   ]
  },
  {
   "cell_type": "code",
   "execution_count": 34,
   "metadata": {},
   "outputs": [
    {
     "data": {
      "text/plain": [
       "array([11.13749749])"
      ]
     },
     "execution_count": 34,
     "metadata": {},
     "output_type": "execute_result"
    }
   ],
   "source": [
    "#prediction of new data\n",
    "predict_x=pd.DataFrame({\"AGE\":[40],\"ADIPOSITY\":[0],\"NECK\":[0],\"CHEST\":[0],\"ABDOMEN\":[80],\"HIP\":[0],\"THIGH\":[0],\n",
    "                        \"KNEE\":[0],\"ANKLE\":[0],\"BICEPS\":[0],\"FOREARM\":[0],\"WRIST\":[0],\"WEIGHT_KG\":[70],\"HEIGHT_M\":[0]})\n",
    "bodyfat_pre=lasso_reg.predict(predict_x)\n",
    "bodyfat_pre"
   ]
  },
  {
   "cell_type": "code",
   "execution_count": 1,
   "metadata": {},
   "outputs": [
    {
     "ename": "NameError",
     "evalue": "name 'lasso_reg' is not defined",
     "output_type": "error",
     "traceback": [
      "\u001b[1;31m---------------------------------------------------------------------------\u001b[0m",
      "\u001b[1;31mNameError\u001b[0m                                 Traceback (most recent call last)",
      "\u001b[1;32m<ipython-input-1-cdb015adfd31>\u001b[0m in \u001b[0;36m<module>\u001b[1;34m\u001b[0m\n\u001b[0;32m      1\u001b[0m \u001b[1;31m#prediction levels\u001b[0m\u001b[1;33m\u001b[0m\u001b[1;33m\u001b[0m\u001b[1;33m\u001b[0m\u001b[0m\n\u001b[1;32m----> 2\u001b[1;33m \u001b[0mpredictions\u001b[0m \u001b[1;33m=\u001b[0m \u001b[0mlasso_reg\u001b[0m\u001b[1;33m.\u001b[0m\u001b[0mget_prediction\u001b[0m\u001b[1;33m(\u001b[0m\u001b[0mpredict_x\u001b[0m\u001b[1;33m)\u001b[0m\u001b[1;33m\u001b[0m\u001b[1;33m\u001b[0m\u001b[0m\n\u001b[0m\u001b[0;32m      3\u001b[0m \u001b[0mpredictions\u001b[0m\u001b[1;33m.\u001b[0m\u001b[0msummary_frame\u001b[0m\u001b[1;33m(\u001b[0m\u001b[0malpha\u001b[0m\u001b[1;33m=\u001b[0m\u001b[1;36m0.05\u001b[0m\u001b[1;33m)\u001b[0m\u001b[1;33m\u001b[0m\u001b[1;33m\u001b[0m\u001b[0m\n",
      "\u001b[1;31mNameError\u001b[0m: name 'lasso_reg' is not defined"
     ]
    }
   ],
   "source": [
    "#prediction levels\n",
    "predictions = lasso_reg.get_prediction(predict_x)\n",
    "predictions.summary_frame(alpha=0.05)"
   ]
  },
  {
   "cell_type": "markdown",
   "metadata": {},
   "source": [
    "Lasso Regression with lambda=0.2"
   ]
  },
  {
   "cell_type": "code",
   "execution_count": 23,
   "metadata": {},
   "outputs": [
    {
     "name": "stdout",
     "output_type": "stream",
     "text": [
      "Lasso Root Mean Squared Error: 3.898217089681482\n"
     ]
    }
   ],
   "source": [
    "lasso_reg2 = Lasso(alpha=0.2)\n",
    "lasso_reg2.fit(x,y)\n",
    "\n",
    "bodyfat_predictions_l2 = lasso_reg2.predict(x)\n",
    "lasso_rmse2 = np.sqrt(mean_squared_error(y,bodyfat_predictions_l2))\n",
    "print(\"Lasso Root Mean Squared Error:\", lasso_rmse2)"
   ]
  },
  {
   "cell_type": "code",
   "execution_count": 24,
   "metadata": {},
   "outputs": [
    {
     "name": "stdout",
     "output_type": "stream",
     "text": [
      "Intercept: -27.70378243524968\n",
      "\n",
      "Coefficients:\n",
      "--------------\n"
     ]
    },
    {
     "data": {
      "text/plain": [
       "AGE          0.037477\n",
       "ADIPOSITY    0.023614\n",
       "NECK        -0.354916\n",
       "ABDOMEN      0.870718\n",
       "HIP         -0.108048\n",
       "THIGH        0.181494\n",
       "BICEPS       0.113164\n",
       "FOREARM      0.265281\n",
       "WRIST       -0.814519\n",
       "WEIGHT_KG   -0.235806\n",
       "dtype: float64"
      ]
     },
     "execution_count": 24,
     "metadata": {},
     "output_type": "execute_result"
    }
   ],
   "source": [
    "print(\"Intercept:\", lasso_reg2.intercept_)\n",
    "print(\"\\nCoefficients:\\n--------------\")\n",
    "c = pd.Series(lasso_reg2.coef_,index=x.columns)\n",
    "c.loc[lambda x: x!=0]"
   ]
  },
  {
   "cell_type": "code",
   "execution_count": 25,
   "metadata": {},
   "outputs": [
    {
     "name": "stdout",
     "output_type": "stream",
     "text": [
      "Lasso Regression with lambda=0.2: R^2 score 0.7422239376429307\n"
     ]
    }
   ],
   "source": [
    "print('Lasso Regression with lambda=0.2: R^2 score', lasso_reg2.score(x, y))"
   ]
  },
  {
   "cell_type": "code",
   "execution_count": 37,
   "metadata": {},
   "outputs": [
    {
     "name": "stdout",
     "output_type": "stream",
     "text": [
      "Residuals:\n",
      "Min      1Q  Median      3Q     Max\n",
      "-9.6067 -2.8516   0.033  2.7573  9.7223\n",
      "\n",
      "\n",
      "Coefficients:\n",
      "             Estimate  Std. Error  t value   p value\n",
      "_intercept -27.703782   15.632829  -1.7722  0.077582\n",
      "AGE          0.037477    0.021854   1.7149  0.087605\n",
      "ADIPOSITY    0.023614    0.214869   0.1099  0.912578\n",
      "NECK        -0.354916    0.182059  -1.9495  0.052355\n",
      "CHEST       -0.000000    0.070070  -0.0000  1.000000\n",
      "ABDOMEN      0.870718    0.068116  12.7828  0.000000\n",
      "HIP         -0.108048    0.084247  -1.2825  0.200847\n",
      "THIGH        0.181494    0.118355   1.5335  0.126417\n",
      "KNEE        -0.000000    0.203915  -0.0000  1.000000\n",
      "ANKLE        0.000000    0.187773   0.0000  1.000000\n",
      "BICEPS       0.113164    0.148783   0.7606  0.447614\n",
      "FOREARM      0.265281    0.170062   1.5599  0.120042\n",
      "WRIST       -0.814519    0.456982  -1.7824  0.075894\n",
      "WEIGHT_KG   -0.235806    0.040304  -5.8506  0.000000\n",
      "HEIGHT_M    -0.000000    3.635314  -0.0000  1.000000\n",
      "---\n",
      "R-squared:  0.74222,    Adjusted R-squared:  0.72700\n",
      "F-statistic: 48.74 on 14 features\n"
     ]
    }
   ],
   "source": [
    "regressors.stats.summary(lasso_reg2, x, y, xlabels=name)"
   ]
  },
  {
   "cell_type": "code",
   "execution_count": null,
   "metadata": {},
   "outputs": [],
   "source": []
  }
 ],
 "metadata": {
  "kernelspec": {
   "display_name": "Python 3",
   "language": "python",
   "name": "python3"
  },
  "language_info": {
   "codemirror_mode": {
    "name": "ipython",
    "version": 3
   },
   "file_extension": ".py",
   "mimetype": "text/x-python",
   "name": "python",
   "nbconvert_exporter": "python",
   "pygments_lexer": "ipython3",
   "version": "3.8.8"
  }
 },
 "nbformat": 4,
 "nbformat_minor": 2
}
